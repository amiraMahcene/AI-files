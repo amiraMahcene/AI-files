{
 "cells": [
  {
   "cell_type": "code",
   "execution_count": 6,
   "id": "481956d7-bb3c-440a-ab05-4c93f1d74dc7",
   "metadata": {},
   "outputs": [],
   "source": [
    "def countdown(n):\n",
    "    if n <= 0:\n",
    "        return n\n",
    "    else:\n",
    "        print(n)\n",
    "        countdown(n-1)\n",
    "        "
   ]
  },
  {
   "cell_type": "code",
   "execution_count": 7,
   "id": "db9c10bb-012f-4893-9329-6a972294d708",
   "metadata": {},
   "outputs": [
    {
     "name": "stdout",
     "output_type": "stream",
     "text": [
      "10\n",
      "9\n",
      "8\n",
      "7\n",
      "6\n",
      "5\n",
      "4\n",
      "3\n",
      "2\n",
      "1\n",
      "None\n"
     ]
    }
   ],
   "source": [
    "print(countdown(10))"
   ]
  },
  {
   "cell_type": "code",
   "execution_count": 9,
   "id": "1b7a5d52-6431-425a-a940-89877a030d12",
   "metadata": {},
   "outputs": [],
   "source": [
    "def countdown_loopversion(n):\n",
    "    while (n>0):\n",
    "        print(n)\n",
    "        n -=1\n",
    "        "
   ]
  },
  {
   "cell_type": "code",
   "execution_count": 10,
   "id": "f0df44c6-4463-4262-8260-431af9c96479",
   "metadata": {},
   "outputs": [
    {
     "name": "stdout",
     "output_type": "stream",
     "text": [
      "10\n",
      "9\n",
      "8\n",
      "7\n",
      "6\n",
      "5\n",
      "4\n",
      "3\n",
      "2\n",
      "1\n"
     ]
    }
   ],
   "source": [
    "countdown_loopversion(10)"
   ]
  },
  {
   "cell_type": "code",
   "execution_count": null,
   "id": "a7cfb1bd-a61f-4e9e-a43e-8b9a84e37c6e",
   "metadata": {},
   "outputs": [],
   "source": []
  }
 ],
 "metadata": {
  "kernelspec": {
   "display_name": "Python 3 (ipykernel)",
   "language": "python",
   "name": "python3"
  },
  "language_info": {
   "codemirror_mode": {
    "name": "ipython",
    "version": 3
   },
   "file_extension": ".py",
   "mimetype": "text/x-python",
   "name": "python",
   "nbconvert_exporter": "python",
   "pygments_lexer": "ipython3",
   "version": "3.12.8"
  }
 },
 "nbformat": 4,
 "nbformat_minor": 5
}
