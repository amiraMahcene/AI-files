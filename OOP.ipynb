{
 "cells": [
  {
   "cell_type": "markdown",
   "id": "21cebf76-249d-455b-9611-e71b7d90490c",
   "metadata": {},
   "source": [
    "### OOP"
   ]
  },
  {
   "cell_type": "markdown",
   "id": "45cf6ef0-767f-40b1-92f3-af94fb8c442f",
   "metadata": {},
   "source": [
    "OOPs is a way of organizing code that uses objects and classes to represent real-world entities and their behavior. In OOPs, object has attributes thing that has specific data and can perform certain actions using methods."
   ]
  },
  {
   "cell_type": "markdown",
   "id": "26b8a612-b461-4d90-ac1c-6413be70828e",
   "metadata": {},
   "source": [
    "### OOPs Concepts in Python\n",
    "\n",
    "    Class in Python : is an abstract representation of an object, each class has attributes which are variables that store data inside an object, and methodes which are functions that defines that behavior of an object\n",
    "    Objects in Python : is an instance of a class \n",
    "    Polymorphism in Python\n",
    "    Encapsulation in Python\n",
    "    Inheritance in Python\n",
    "    Data Abstraction in Python"
   ]
  },
  {
   "cell_type": "markdown",
   "id": "489f9b88-439d-49a9-bb44-09330b164619",
   "metadata": {},
   "source": [
    "### A class defines a templates for objects , and an object is an instance of a class"
   ]
  },
  {
   "cell_type": "code",
   "execution_count": 12,
   "id": "a93b2e49-acc2-4342-939c-e5d259a8af65",
   "metadata": {},
   "outputs": [],
   "source": [
    "class Dog:\n",
    "    species = \"Canine\"  # Class attribute contant \n",
    "\n",
    "    def __init__(self, name, age):\n",
    "        self.name = name  # Instance attribute\n",
    "        self.age = age  # Instance attribute\n",
    "        \n",
    "    def make_sound(self):\n",
    "        print(\"woof\")"
   ]
  },
  {
   "cell_type": "code",
   "execution_count": 13,
   "id": "e7d286d9-8c47-4d9f-891b-7fee7d63ce43",
   "metadata": {},
   "outputs": [],
   "source": [
    "chein = Dog(\"BOLDOG\", 6)"
   ]
  },
  {
   "cell_type": "code",
   "execution_count": 14,
   "id": "2a0ab63c-678f-4a6b-895f-04fbedbb4961",
   "metadata": {},
   "outputs": [
    {
     "name": "stdout",
     "output_type": "stream",
     "text": [
      "BOLDOG\n"
     ]
    }
   ],
   "source": [
    "print(chein.name)"
   ]
  },
  {
   "cell_type": "code",
   "execution_count": 15,
   "id": "c7ec5aa3-dd7b-4578-973a-68c40be94352",
   "metadata": {},
   "outputs": [
    {
     "name": "stdout",
     "output_type": "stream",
     "text": [
      "6\n"
     ]
    }
   ],
   "source": [
    "print(chein.age)"
   ]
  },
  {
   "cell_type": "code",
   "execution_count": 16,
   "id": "a6bdea41-f2b4-4e77-b82c-cecd229a9969",
   "metadata": {},
   "outputs": [
    {
     "name": "stdout",
     "output_type": "stream",
     "text": [
      "Canine\n"
     ]
    }
   ],
   "source": [
    "print(chein.species)"
   ]
  },
  {
   "cell_type": "code",
   "execution_count": 17,
   "id": "b34a619d-d013-43ed-aef9-10858bf3f690",
   "metadata": {},
   "outputs": [
    {
     "name": "stdout",
     "output_type": "stream",
     "text": [
      "woof\n"
     ]
    }
   ],
   "source": [
    "chein.make_sound()"
   ]
  },
  {
   "cell_type": "code",
   "execution_count": null,
   "id": "710a7426-0b23-439d-ab12-9b650b00f573",
   "metadata": {},
   "outputs": [],
   "source": [
    "# Excercice for Lila "
   ]
  },
  {
   "cell_type": "code",
   "execution_count": 18,
   "id": "277cb655-484f-4933-8839-9e68f88da7d7",
   "metadata": {},
   "outputs": [],
   "source": [
    "class Animal:\n",
    "    def __init__(self, name):\n",
    "        self.name = name\n",
    "\n",
    "    def make_Sound(self):\n",
    "        print(\"Animal makes a sound\")\n",
    "\n",
    "class Dog(Animal):\n",
    "    def Name(self):\n",
    "        print(\"My name is , \",self.name)"
   ]
  },
  {
   "cell_type": "code",
   "execution_count": 19,
   "id": "2a353378-b8bc-4b07-bd9c-0bb9d7785725",
   "metadata": {},
   "outputs": [
    {
     "name": "stdout",
     "output_type": "stream",
     "text": [
      "My name is ,  Buddy\n"
     ]
    }
   ],
   "source": [
    "dog =  Dog(\"Buddy\")\n",
    "dog.Name()"
   ]
  },
  {
   "cell_type": "code",
   "execution_count": 20,
   "id": "92c97864-ec91-4486-9da8-d8cbcfeeda02",
   "metadata": {},
   "outputs": [
    {
     "name": "stdout",
     "output_type": "stream",
     "text": [
      "Animal makes a sound\n"
     ]
    }
   ],
   "source": [
    "dog.make_Sound()"
   ]
  },
  {
   "cell_type": "code",
   "execution_count": null,
   "id": "8f51db39-09ac-42cb-8250-db19aa3cd58d",
   "metadata": {},
   "outputs": [],
   "source": []
  }
 ],
 "metadata": {
  "kernelspec": {
   "display_name": "Python 3 (ipykernel)",
   "language": "python",
   "name": "python3"
  },
  "language_info": {
   "codemirror_mode": {
    "name": "ipython",
    "version": 3
   },
   "file_extension": ".py",
   "mimetype": "text/x-python",
   "name": "python",
   "nbconvert_exporter": "python",
   "pygments_lexer": "ipython3",
   "version": "3.12.8"
  }
 },
 "nbformat": 4,
 "nbformat_minor": 5
}
