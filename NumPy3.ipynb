{
 "cells": [
  {
   "cell_type": "code",
   "execution_count": 3,
   "id": "a9764210-6a1b-4238-b81a-5ed7b1da6a62",
   "metadata": {},
   "outputs": [],
   "source": [
    "import numpy as np"
   ]
  },
  {
   "cell_type": "markdown",
   "id": "61aaef59-9f14-451f-8933-0cc3a7062235",
   "metadata": {},
   "source": [
    "# Printing Arrays"
   ]
  },
  {
   "cell_type": "markdown",
   "id": "72ff4ab6-bf08-4a56-a84d-f50c07d6fc0e",
   "metadata": {},
   "source": [
    "When you print array, NumPy displays it in a similar way to nestead lists,but with the following layouts: \n",
    " - The  last axis is printed from the left to the right\n",
    " - The seconf-to-last is printed from top to buttom\n",
    " - The rest are also printed from the top to the buttom, with each slice separated from the next by an empty line "
   ]
  },
  {
   "cell_type": "code",
   "execution_count": 4,
   "id": "5488a258-7399-449d-804e-342069b6d3f2",
   "metadata": {},
   "outputs": [],
   "source": [
    "# One dimensional arrays are the printed as rows, bidimensionals as matrices are tridimesionals as lists of matrices"
   ]
  },
  {
   "cell_type": "code",
   "execution_count": 5,
   "id": "ab396266-fc09-4f15-ad70-f2580d57d2d3",
   "metadata": {},
   "outputs": [
    {
     "data": {
      "text/plain": [
       "array([0, 1, 2, 3, 4, 5])"
      ]
     },
     "execution_count": 5,
     "metadata": {},
     "output_type": "execute_result"
    }
   ],
   "source": [
    "a = np.arange(6)\n",
    "a"
   ]
  },
  {
   "cell_type": "code",
   "execution_count": 8,
   "id": "94a75f45-e6c6-4919-a3aa-ff8e90135ff5",
   "metadata": {},
   "outputs": [
    {
     "data": {
      "text/plain": [
       "array([[ 0,  1,  2],\n",
       "       [ 3,  4,  5],\n",
       "       [ 6,  7,  8],\n",
       "       [ 9, 10, 11]])"
      ]
     },
     "execution_count": 8,
     "metadata": {},
     "output_type": "execute_result"
    }
   ],
   "source": [
    "b = np.arange(12).reshape(4,3)\n",
    "b"
   ]
  },
  {
   "cell_type": "code",
   "execution_count": 10,
   "id": "777406b3-1e4b-4769-bace-4ba6316f63ef",
   "metadata": {},
   "outputs": [
    {
     "data": {
      "text/plain": [
       "array([[[ 0,  1,  2,  3],\n",
       "        [ 4,  5,  6,  7],\n",
       "        [ 8,  9, 10, 11]],\n",
       "\n",
       "       [[12, 13, 14, 15],\n",
       "        [16, 17, 18, 19],\n",
       "        [20, 21, 22, 23]]])"
      ]
     },
     "execution_count": 10,
     "metadata": {},
     "output_type": "execute_result"
    }
   ],
   "source": [
    "c = np.arange(24).reshape(2,3,4)\n",
    "c"
   ]
  },
  {
   "cell_type": "code",
   "execution_count": 11,
   "id": "83987c58-e97f-40aa-86b1-74db6b2c65cd",
   "metadata": {},
   "outputs": [],
   "source": [
    "# Note  :  if any array is too large to be printed, NumPy automatically skips the central part of the array\n",
    "#          and only prints the corners"
   ]
  },
  {
   "cell_type": "code",
   "execution_count": 12,
   "id": "406fd33a-df24-4bf8-8faf-2f6b85dc28a6",
   "metadata": {},
   "outputs": [
    {
     "name": "stdout",
     "output_type": "stream",
     "text": [
      "[   0    1    2 ... 9997 9998 9999]\n"
     ]
    }
   ],
   "source": [
    "print(np.arange(10000))"
   ]
  },
  {
   "cell_type": "code",
   "execution_count": 14,
   "id": "198a6d4f-3166-4903-b8fc-73bc2ea41de8",
   "metadata": {},
   "outputs": [
    {
     "name": "stdout",
     "output_type": "stream",
     "text": [
      "[[   0    1    2 ...   97   98   99]\n",
      " [ 100  101  102 ...  197  198  199]\n",
      " [ 200  201  202 ...  297  298  299]\n",
      " ...\n",
      " [9700 9701 9702 ... 9797 9798 9799]\n",
      " [9800 9801 9802 ... 9897 9898 9899]\n",
      " [9900 9901 9902 ... 9997 9998 9999]]\n"
     ]
    }
   ],
   "source": [
    "print(np.arange(10000).reshape(100,100))"
   ]
  },
  {
   "cell_type": "code",
   "execution_count": 15,
   "id": "b4772e96-e7b3-490c-8c07-39e2b5cf4d62",
   "metadata": {},
   "outputs": [],
   "source": [
    "# To disable this behaviour and force NumPy to print the entier array, you can change the printing options using \n",
    "# set_printoption\n"
   ]
  },
  {
   "cell_type": "code",
   "execution_count": 18,
   "id": "440880d0-a757-4b36-8667-301ab6072142",
   "metadata": {},
   "outputs": [
    {
     "ename": "NameError",
     "evalue": "name 'threshold' is not defined",
     "output_type": "error",
     "traceback": [
      "\u001b[0;31m---------------------------------------------------------------------------\u001b[0m",
      "\u001b[0;31mNameError\u001b[0m                                 Traceback (most recent call last)",
      "Cell \u001b[0;32mIn[18], line 1\u001b[0m\n\u001b[0;32m----> 1\u001b[0m np\u001b[38;5;241m.\u001b[39mset_printoptions(\u001b[43mthreshold\u001b[49m\u001b[38;5;241m-\u001b[39msys\u001b[38;5;241m.\u001b[39mmaxsize)\n",
      "\u001b[0;31mNameError\u001b[0m: name 'threshold' is not defined"
     ]
    }
   ],
   "source": [
    "np.set_printoptions(threshold-sys.maxsize) #!!!!"
   ]
  },
  {
   "cell_type": "markdown",
   "id": "6162328a-a304-4ad3-8f20-2035b5c170e2",
   "metadata": {},
   "source": [
    "# Basic operations"
   ]
  },
  {
   "cell_type": "markdown",
   "id": "3ae76c21-e8b5-474e-9d6e-0b4482a6efdf",
   "metadata": {},
   "source": [
    "Arithmetic operations on arrays apply elementwise, a new array is created and filled with the result"
   ]
  },
  {
   "cell_type": "code",
   "execution_count": 22,
   "id": "894d8411-4a36-4754-a127-92486bfc62a4",
   "metadata": {},
   "outputs": [
    {
     "data": {
      "text/plain": [
       "array([ True,  True, False, False])"
      ]
     },
     "execution_count": 22,
     "metadata": {},
     "output_type": "execute_result"
    }
   ],
   "source": [
    "a = np.array([20,30,40,50])\n",
    "b = np.arange(4)\n",
    "c = a-b\n",
    "c\n",
    "b**2\n",
    "10*np.sin(a)\n",
    "a<35"
   ]
  },
  {
   "cell_type": "markdown",
   "id": "f48508e3-27ef-4898-96f9-17ab9e4ebdb4",
   "metadata": {},
   "source": [
    "Unlike in many matrix languages, the product operator * operates  elementwise in NumPy arrays, The matrix product can be performed using the @ operator or the dot fucntion"
   ]
  },
  {
   "cell_type": "code",
   "execution_count": 23,
   "id": "5a5515fc-ccf7-445f-bb14-0dd759ba6138",
   "metadata": {},
   "outputs": [
    {
     "data": {
      "text/plain": [
       "array([[2, 0],\n",
       "       [0, 4]])"
      ]
     },
     "execution_count": 23,
     "metadata": {},
     "output_type": "execute_result"
    }
   ],
   "source": [
    "A = np.array([\n",
    "              [1,1],[0,1]\n",
    "             ])\n",
    "B = np.array([\n",
    "              [2,0],[3,4]\n",
    "             ])\n",
    "A*B # elementwise product"
   ]
  },
  {
   "cell_type": "code",
   "execution_count": 24,
   "id": "18ba59bd-7258-4e0e-8d90-08a0d1f97ead",
   "metadata": {},
   "outputs": [
    {
     "data": {
      "text/plain": [
       "array([[5, 4],\n",
       "       [3, 4]])"
      ]
     },
     "execution_count": 24,
     "metadata": {},
     "output_type": "execute_result"
    }
   ],
   "source": [
    "A@B #matrix product"
   ]
  },
  {
   "cell_type": "code",
   "execution_count": 25,
   "id": "f45c63fd-770c-4387-88b2-cdb43575c333",
   "metadata": {},
   "outputs": [
    {
     "data": {
      "text/plain": [
       "array([[5, 4],\n",
       "       [3, 4]])"
      ]
     },
     "execution_count": 25,
     "metadata": {},
     "output_type": "execute_result"
    }
   ],
   "source": [
    "A.dot(B) # another way to do matrix product "
   ]
  },
  {
   "cell_type": "markdown",
   "id": "49d6e312-2318-4e36-ba19-5071f8abd76e",
   "metadata": {},
   "source": [
    "let's do some math here :\n",
    "In NumPy, there are two main ways to perform multiplication with matrices\n",
    "- Elementwise Multiplication *\n",
    "- Matrix Multiplication\n",
    "* Elementwise multiplication (Hadamard product)\n",
    "    - Use the * operator or np.multiply()\n",
    "    - Multiplies corresponding elements of two matrices element by element\n",
    "    - Requires both matrices to have to same shape\n",
    "* Matrix Product (Dot Product or Matrix Multiplication)\n",
    "    - Use the @ operator or dot()\n",
    "    - Follow linear algebra matrix multiplication rules\n",
    "        :\n",
    "          - The number of columns in the first matrix must match the number of rows in the second matrix\n",
    "          - The  resulting matrix has the shape (row of the first matrice, columns of the second matrie)\n",
    "    \n"
   ]
  },
  {
   "cell_type": "code",
   "execution_count": 26,
   "id": "e45008c8-0ec1-4b03-954a-583594aca75a",
   "metadata": {},
   "outputs": [],
   "source": [
    "# Some operations such ass += , *= act in place to modify an existing array rather than create a new one\n"
   ]
  },
  {
   "cell_type": "code",
   "execution_count": 28,
   "id": "36cbdd76-1a7e-48ad-85ed-c21d1d85a2e0",
   "metadata": {},
   "outputs": [
    {
     "data": {
      "text/plain": [
       "array([[1, 1, 1],\n",
       "       [1, 1, 1]])"
      ]
     },
     "execution_count": 28,
     "metadata": {},
     "output_type": "execute_result"
    }
   ],
   "source": [
    "a = np.ones((2,3),dtype=int)\n",
    "a"
   ]
  },
  {
   "cell_type": "code",
   "execution_count": 34,
   "id": "8dc158fb-fd57-4211-8953-9470fe6a6fa1",
   "metadata": {},
   "outputs": [
    {
     "data": {
      "text/plain": [
       "array([[3, 3, 3],\n",
       "       [3, 3, 3]])"
      ]
     },
     "execution_count": 34,
     "metadata": {},
     "output_type": "execute_result"
    }
   ],
   "source": [
    "b = np.random.random((2,3))\n",
    "a *= 3\n",
    "a"
   ]
  },
  {
   "cell_type": "code",
   "execution_count": 36,
   "id": "347081ef-c7bd-4183-ba63-48d13d98227f",
   "metadata": {},
   "outputs": [
    {
     "data": {
      "text/plain": [
       "array([[6.98244639, 6.11675151, 6.50117754],\n",
       "       [6.29409174, 6.23660633, 6.08231713]])"
      ]
     },
     "execution_count": 36,
     "metadata": {},
     "output_type": "execute_result"
    }
   ],
   "source": [
    "b += a\n",
    "b"
   ]
  },
  {
   "cell_type": "code",
   "execution_count": null,
   "id": "638e9436-8e19-46d5-b416-b5631a399efc",
   "metadata": {},
   "outputs": [],
   "source": []
  }
 ],
 "metadata": {
  "kernelspec": {
   "display_name": "Python 3 (ipykernel)",
   "language": "python",
   "name": "python3"
  },
  "language_info": {
   "codemirror_mode": {
    "name": "ipython",
    "version": 3
   },
   "file_extension": ".py",
   "mimetype": "text/x-python",
   "name": "python",
   "nbconvert_exporter": "python",
   "pygments_lexer": "ipython3",
   "version": "3.12.8"
  }
 },
 "nbformat": 4,
 "nbformat_minor": 5
}
