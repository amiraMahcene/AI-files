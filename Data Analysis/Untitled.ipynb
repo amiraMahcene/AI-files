{
 "cells": [
  {
   "cell_type": "code",
   "execution_count": 2,
   "id": "230eda39-40fd-471c-84db-fc7ca17b8fe6",
   "metadata": {},
   "outputs": [
    {
     "ename": "ModuleNotFoundError",
     "evalue": "No module named 'pandas'",
     "output_type": "error",
     "traceback": [
      "\u001b[0;31m---------------------------------------------------------------------------\u001b[0m",
      "\u001b[0;31mModuleNotFoundError\u001b[0m                       Traceback (most recent call last)",
      "Cell \u001b[0;32mIn[2], line 1\u001b[0m\n\u001b[0;32m----> 1\u001b[0m \u001b[38;5;28;01mimport\u001b[39;00m \u001b[38;5;21;01mpandas\u001b[39;00m \u001b[38;5;28;01mas\u001b[39;00m \u001b[38;5;21;01mpd\u001b[39;00m\n",
      "\u001b[0;31mModuleNotFoundError\u001b[0m: No module named 'pandas'"
     ]
    }
   ],
   "source": [
    "import pandas as pd"
   ]
  },
  {
   "cell_type": "code",
   "execution_count": 3,
   "id": "abdf4a4b-3790-49a3-b7c5-7e1aac2ee71e",
   "metadata": {},
   "outputs": [
    {
     "name": "stdout",
     "output_type": "stream",
     "text": [
      "Defaulting to user installation because normal site-packages is not writeable\n",
      "Collecting pandas\n",
      "  Downloading pandas-2.2.3-cp312-cp312-manylinux_2_17_x86_64.manylinux2014_x86_64.whl.metadata (89 kB)\n",
      "\u001b[2K     \u001b[38;2;114;156;31m━━━━━━━━━━━━━━━━━━━━━━━━━━━━━━━━━━━━━━━━\u001b[0m \u001b[32m89.9/89.9 kB\u001b[0m \u001b[31m1.7 MB/s\u001b[0m eta \u001b[36m0:00:00\u001b[0m MB/s\u001b[0m eta \u001b[36m0:00:01\u001b[0m\n",
      "\u001b[?25hRequirement already satisfied: numpy>=1.26.0 in /home/user/.local/lib/python3.12/site-packages (from pandas) (2.2.3)\n",
      "Requirement already satisfied: python-dateutil>=2.8.2 in /usr/lib/python3.12/site-packages (from pandas) (2.8.2)\n",
      "Collecting pytz>=2020.1 (from pandas)\n",
      "  Downloading pytz-2025.2-py2.py3-none-any.whl.metadata (22 kB)\n",
      "Collecting tzdata>=2022.7 (from pandas)\n",
      "  Downloading tzdata-2025.2-py2.py3-none-any.whl.metadata (1.4 kB)\n",
      "Requirement already satisfied: six>=1.5 in /usr/lib/python3.12/site-packages (from python-dateutil>=2.8.2->pandas) (1.16.0)\n",
      "Downloading pandas-2.2.3-cp312-cp312-manylinux_2_17_x86_64.manylinux2014_x86_64.whl (12.7 MB)\n",
      "\u001b[2K   \u001b[38;2;114;156;31m━━━━━━━━━━━━━━━━━━━━━━━━━━━━━━━━━━━━━━━━\u001b[0m \u001b[32m12.7/12.7 MB\u001b[0m \u001b[31m3.6 MB/s\u001b[0m eta \u001b[36m0:00:00\u001b[0mm eta \u001b[36m0:00:01\u001b[0m[36m0:00:01\u001b[0m\n",
      "\u001b[?25hDownloading pytz-2025.2-py2.py3-none-any.whl (509 kB)\n",
      "\u001b[2K   \u001b[38;2;114;156;31m━━━━━━━━━━━━━━━━━━━━━━━━━━━━━━━━━━━━━━━━\u001b[0m \u001b[32m509.2/509.2 kB\u001b[0m \u001b[31m2.7 MB/s\u001b[0m eta \u001b[36m0:00:00\u001b[0m[36m0:00:01\u001b[0m[36m0:00:01\u001b[0m:01\u001b[0m\n",
      "\u001b[?25hDownloading tzdata-2025.2-py2.py3-none-any.whl (347 kB)\n",
      "\u001b[2K   \u001b[38;2;114;156;31m━━━━━━━━━━━━━━━━━━━━━━━━━━━━━━━━━━━━━━━━\u001b[0m \u001b[32m347.8/347.8 kB\u001b[0m \u001b[31m3.7 MB/s\u001b[0m eta \u001b[36m0:00:00\u001b[0m[31m4.2 MB/s\u001b[0m eta \u001b[36m0:00:01\u001b[0m\n",
      "\u001b[?25hInstalling collected packages: pytz, tzdata, pandas\n",
      "Successfully installed pandas-2.2.3 pytz-2025.2 tzdata-2025.2\n"
     ]
    }
   ],
   "source": [
    "!pip install pandas\n"
   ]
  },
  {
   "cell_type": "code",
   "execution_count": 4,
   "id": "5950c721-3b03-4b8d-88c6-97b14879f64b",
   "metadata": {},
   "outputs": [],
   "source": [
    "import pandas as pd"
   ]
  },
  {
   "cell_type": "code",
   "execution_count": 5,
   "id": "5da8f22e-9986-4c8c-982a-3179da817a43",
   "metadata": {},
   "outputs": [
    {
     "name": "stdout",
     "output_type": "stream",
     "text": [
      "Raw Data:\n",
      "   patient_id    age diabetes_type blood_pressure  glucose last_visit_date\n",
      "0           1   45.0         Type2         120/80    150.0      2023-05-12\n",
      "1           2  200.0         Type1         140/90    300.0      05/12/2023\n",
      "2           3   30.0         type2          90/60     88.0      2023.06.01\n",
      "3           4   35.0        Type 1   13.3/8.7 kPa    200.0      2023-07-20\n",
      "4           5   50.0         Type2         130/85      NaN      07/20/2023\n",
      "5           5   50.0         Type2         130/85    200.0      07/20/2023\n",
      "6           6   28.0         Type3         150/95    250.0      2023-08-15\n",
      "7           7   67.0         Type1        160/100    400.0            None\n",
      "8           8   80.0          None         110/70    180.0      2023-09-01\n",
      "9           9    NaN         Type2           None    130.0      2023-10-10\n"
     ]
    }
   ],
   "source": [
    "data = {\n",
    "    'patient_id': [1, 2, 3, 4, 5, 5, 6, 7, 8, 9],\n",
    "    'age': [45, 200, 30, 35, 50, 50, 28, 67, 80, None],\n",
    "    'diabetes_type': ['Type2', 'Type1', 'type2', 'Type 1', 'Type2', 'Type2', 'Type3', 'Type1', None, 'Type2'],\n",
    "    'blood_pressure': ['120/80', '140/90', '90/60', '13.3/8.7 kPa', '130/85', '130/85', '150/95', '160/100', '110/70', None],\n",
    "    'glucose': [150, 300, 88, 200, None, 200, 250, 400, 180, 130],\n",
    "    'last_visit_date': ['2023-05-12', '05/12/2023', '2023.06.01', '2023-07-20', '07/20/2023', '07/20/2023', '2023-08-15', None, '2023-09-01', '2023-10-10']\n",
    "}\n",
    "df = pd.DataFrame(data)\n",
    "print(\"Raw Data:\")\n",
    "print(df)"
   ]
  },
  {
   "cell_type": "code",
   "execution_count": 6,
   "id": "06249da4-5e23-4641-9825-91a804f7f4e5",
   "metadata": {},
   "outputs": [
    {
     "name": "stdout",
     "output_type": "stream",
     "text": [
      "\n",
      "--- Remove Duplicates ---\n",
      "Rows after removing duplicates: 10\n"
     ]
    }
   ],
   "source": [
    "print(\"\\n--- Remove Duplicates ---\")\n",
    "df = df.drop_duplicates()\n",
    "print(f\"Rows after removing duplicates: {len(df)}\")"
   ]
  },
  {
   "cell_type": "code",
   "execution_count": 7,
   "id": "cb246c7d-a570-4bf2-8a71-b0dcb40557ee",
   "metadata": {},
   "outputs": [
    {
     "data": {
      "text/html": [
       "<div>\n",
       "<style scoped>\n",
       "    .dataframe tbody tr th:only-of-type {\n",
       "        vertical-align: middle;\n",
       "    }\n",
       "\n",
       "    .dataframe tbody tr th {\n",
       "        vertical-align: top;\n",
       "    }\n",
       "\n",
       "    .dataframe thead th {\n",
       "        text-align: right;\n",
       "    }\n",
       "</style>\n",
       "<table border=\"1\" class=\"dataframe\">\n",
       "  <thead>\n",
       "    <tr style=\"text-align: right;\">\n",
       "      <th></th>\n",
       "      <th>patient_id</th>\n",
       "      <th>age</th>\n",
       "      <th>diabetes_type</th>\n",
       "      <th>blood_pressure</th>\n",
       "      <th>glucose</th>\n",
       "      <th>last_visit_date</th>\n",
       "    </tr>\n",
       "  </thead>\n",
       "  <tbody>\n",
       "    <tr>\n",
       "      <th>0</th>\n",
       "      <td>1</td>\n",
       "      <td>45.0</td>\n",
       "      <td>Type2</td>\n",
       "      <td>120/80</td>\n",
       "      <td>150.0</td>\n",
       "      <td>2023-05-12</td>\n",
       "    </tr>\n",
       "    <tr>\n",
       "      <th>1</th>\n",
       "      <td>2</td>\n",
       "      <td>200.0</td>\n",
       "      <td>Type1</td>\n",
       "      <td>140/90</td>\n",
       "      <td>300.0</td>\n",
       "      <td>05/12/2023</td>\n",
       "    </tr>\n",
       "    <tr>\n",
       "      <th>2</th>\n",
       "      <td>3</td>\n",
       "      <td>30.0</td>\n",
       "      <td>type2</td>\n",
       "      <td>90/60</td>\n",
       "      <td>88.0</td>\n",
       "      <td>2023.06.01</td>\n",
       "    </tr>\n",
       "    <tr>\n",
       "      <th>3</th>\n",
       "      <td>4</td>\n",
       "      <td>35.0</td>\n",
       "      <td>Type 1</td>\n",
       "      <td>13.3/8.7 kPa</td>\n",
       "      <td>200.0</td>\n",
       "      <td>2023-07-20</td>\n",
       "    </tr>\n",
       "    <tr>\n",
       "      <th>4</th>\n",
       "      <td>5</td>\n",
       "      <td>50.0</td>\n",
       "      <td>Type2</td>\n",
       "      <td>130/85</td>\n",
       "      <td>NaN</td>\n",
       "      <td>07/20/2023</td>\n",
       "    </tr>\n",
       "    <tr>\n",
       "      <th>5</th>\n",
       "      <td>5</td>\n",
       "      <td>50.0</td>\n",
       "      <td>Type2</td>\n",
       "      <td>130/85</td>\n",
       "      <td>200.0</td>\n",
       "      <td>07/20/2023</td>\n",
       "    </tr>\n",
       "    <tr>\n",
       "      <th>6</th>\n",
       "      <td>6</td>\n",
       "      <td>28.0</td>\n",
       "      <td>Type3</td>\n",
       "      <td>150/95</td>\n",
       "      <td>250.0</td>\n",
       "      <td>2023-08-15</td>\n",
       "    </tr>\n",
       "    <tr>\n",
       "      <th>7</th>\n",
       "      <td>7</td>\n",
       "      <td>67.0</td>\n",
       "      <td>Type1</td>\n",
       "      <td>160/100</td>\n",
       "      <td>400.0</td>\n",
       "      <td>None</td>\n",
       "    </tr>\n",
       "    <tr>\n",
       "      <th>8</th>\n",
       "      <td>8</td>\n",
       "      <td>80.0</td>\n",
       "      <td>None</td>\n",
       "      <td>110/70</td>\n",
       "      <td>180.0</td>\n",
       "      <td>2023-09-01</td>\n",
       "    </tr>\n",
       "    <tr>\n",
       "      <th>9</th>\n",
       "      <td>9</td>\n",
       "      <td>NaN</td>\n",
       "      <td>Type2</td>\n",
       "      <td>None</td>\n",
       "      <td>130.0</td>\n",
       "      <td>2023-10-10</td>\n",
       "    </tr>\n",
       "  </tbody>\n",
       "</table>\n",
       "</div>"
      ],
      "text/plain": [
       "   patient_id    age diabetes_type blood_pressure  glucose last_visit_date\n",
       "0           1   45.0         Type2         120/80    150.0      2023-05-12\n",
       "1           2  200.0         Type1         140/90    300.0      05/12/2023\n",
       "2           3   30.0         type2          90/60     88.0      2023.06.01\n",
       "3           4   35.0        Type 1   13.3/8.7 kPa    200.0      2023-07-20\n",
       "4           5   50.0         Type2         130/85      NaN      07/20/2023\n",
       "5           5   50.0         Type2         130/85    200.0      07/20/2023\n",
       "6           6   28.0         Type3         150/95    250.0      2023-08-15\n",
       "7           7   67.0         Type1        160/100    400.0            None\n",
       "8           8   80.0          None         110/70    180.0      2023-09-01\n",
       "9           9    NaN         Type2           None    130.0      2023-10-10"
      ]
     },
     "execution_count": 7,
     "metadata": {},
     "output_type": "execute_result"
    }
   ],
   "source": [
    "df"
   ]
  },
  {
   "cell_type": "code",
   "execution_count": null,
   "id": "94fde40a-287a-49b4-bfeb-915f94ae6dc2",
   "metadata": {},
   "outputs": [],
   "source": []
  }
 ],
 "metadata": {
  "kernelspec": {
   "display_name": "Python 3 (ipykernel)",
   "language": "python",
   "name": "python3"
  },
  "language_info": {
   "codemirror_mode": {
    "name": "ipython",
    "version": 3
   },
   "file_extension": ".py",
   "mimetype": "text/x-python",
   "name": "python",
   "nbconvert_exporter": "python",
   "pygments_lexer": "ipython3",
   "version": "3.12.8"
  }
 },
 "nbformat": 4,
 "nbformat_minor": 5
}
