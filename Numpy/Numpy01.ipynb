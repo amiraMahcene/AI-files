{
 "cells": [
  {
   "cell_type": "code",
   "execution_count": 2,
   "id": "be937977-7e64-4403-90c8-bafa760c88dc",
   "metadata": {},
   "outputs": [
    {
     "name": "stdout",
     "output_type": "stream",
     "text": [
      "[2, 8, 9]\n"
     ]
    }
   ],
   "source": [
    "# First Example : consider the case of multiplying each element in a 1-D sequence with the corresponding element in another sequence of the same length, If the data are stored in two python lists a,b  we could iterate over each \n",
    "# elements\n",
    "a = [1,2,3]\n",
    "b = [2,4,3]\n",
    "c = []\n",
    "for i in range(len(a)):\n",
    "        c.append(a[i]*b[i])\n",
    "print(c)"
   ]
  },
  {
   "cell_type": "markdown",
   "id": "3f77e65f-3286-4ae0-9662-41986fd9f6ea",
   "metadata": {},
   "source": [
    "This produces the correct answer, but if a and b each contain millions of numbers, we \n",
    " will pay the price of the inefficiencies of looping in Python, what if we have n-D array???"
   ]
  },
  {
   "cell_type": "markdown",
   "id": "cc457c0f-9974-4a1f-b5c3-fec24cd7fa13",
   "metadata": {},
   "source": [
    "NumPy gives us the best of both : element-by-element operations are the \" Default mode\" when an ndarray is \n",
    "involved, but the element-by-element operation is speedily executed by pre-compiled C code \n"
   ]
  },
  {
   "cell_type": "code",
   "execution_count": 8,
   "id": "cf4a7e68-aa9a-430f-be52-7276bac70ca9",
   "metadata": {},
   "outputs": [],
   "source": [
    "a = [1,2,3]\n",
    "b = [2,4,3]\n",
    "c = []\n",
    "c = a+b\n",
    "# What happend ? Clear because you are not using the numpy library\n",
    "# okay we know from before the python is built on C language and we know also that \n",
    "# python is compiled and interpreter at the same time\n",
    "\n"
   ]
  },
  {
   "cell_type": "markdown",
   "id": "c5b8c36c-bd96-461a-9e59-df242cdc4a5b",
   "metadata": {},
   "source": [
    "# Does wha the earlier examples do, at the near-C speeds, but with the code simplicity we expect \n",
    "# from something based on Python, Indeed NumPy idiom even simpler! "
   ]
  },
  {
   "cell_type": "code",
   "execution_count": 9,
   "id": "a7fef8ee-b3d4-400f-80c4-4e1427d1b12f",
   "metadata": {},
   "outputs": [],
   "source": [
    "import numpy as np"
   ]
  },
  {
   "cell_type": "code",
   "execution_count": 10,
   "id": "51f1a88d-fc98-4b1a-8792-8bd52d0e5328",
   "metadata": {},
   "outputs": [],
   "source": [
    "\n",
    "# Create two arrays\n",
    "array1 = np.array([1, 2, 3, 4, 5])\n",
    "array2 = np.array([6, 7, 8, 9, 10])"
   ]
  },
  {
   "cell_type": "code",
   "execution_count": 11,
   "id": "c60b4c1f-0e00-486f-932b-af3d3d7d9e8a",
   "metadata": {},
   "outputs": [
    {
     "name": "stdout",
     "output_type": "stream",
     "text": [
      "[ 7  9 11 13 15]\n"
     ]
    }
   ],
   "source": [
    "# Perform element-wise addition\n",
    "result = array1 + array2\n",
    "print(result)  # Output: [ 7  9 11 13 15]"
   ]
  },
  {
   "cell_type": "code",
   "execution_count": 12,
   "id": "0f61f9ec-6989-4dff-8fcb-185dfa83e045",
   "metadata": {},
   "outputs": [],
   "source": [
    "#  okay we can see here that that the way we performed the result is not as we use \n",
    "# the normal Python == Vectorizaion"
   ]
  },
  {
   "cell_type": "markdown",
   "id": "bb92aa7e-c816-44a0-b205-5e05533d5c79",
   "metadata": {},
   "source": [
    "# Vectorisation"
   ]
  },
  {
   "cell_type": "markdown",
   "id": "abff74d6-5aa0-4745-89c2-b47ac847b325",
   "metadata": {},
   "source": [
    "Vectorisation describes the absence of any explicit looping, indexing, .. in the code, these things are taking place, of course  just behind the scenes in optimized, pre-compiled C code. Vectorized code has many advantages among which are: \n",
    "- Vectorised code is more concise and easier to read\n",
    "- Fewer lines of code generally means fewer bugs\n",
    "- the code more closely resembles standard mathematical notation\n",
    "- vectorization results in more Pythonic code, without vectorization our code would be littered with onfficient and difficult to read for loops"
   ]
  },
  {
   "cell_type": "code",
   "execution_count": 13,
   "id": "832da931-9553-4aeb-aa41-96979292f6d0",
   "metadata": {},
   "outputs": [
    {
     "name": "stdout",
     "output_type": "stream",
     "text": [
      "15\n",
      "[  2.71828183   7.3890561   20.08553692  54.59815003 148.4131591 ]\n"
     ]
    }
   ],
   "source": [
    "import numpy as np\n",
    "\n",
    "# Create an array\n",
    "array = np.array([1, 2, 3, 4, 5]) # we can create  array, using the function of np.array([])\n",
    "\n",
    "# Calculate the sum of the array elements using np.sum\n",
    "sum_result = np.sum(array)\n",
    "print(sum_result)  # Output: 15\n",
    "\n",
    "# Calculate the exponential of each element using np.exp\n",
    "exp_result = np.exp(array)\n",
    "print(exp_result)  # Output: [ 2.71828183  7.3890561  20.08553692 54.59815003 148.4131591 ]\n"
   ]
  },
  {
   "cell_type": "code",
   "execution_count": 14,
   "id": "b417a2af-35e0-44f0-a068-73d13646b721",
   "metadata": {},
   "outputs": [
    {
     "name": "stdout",
     "output_type": "stream",
     "text": [
      "[ 0  0  4  9 16]\n"
     ]
    }
   ],
   "source": [
    "import numpy as np\n",
    "\n",
    "# Define a function to square positive numbers\n",
    "def square_positive(x):\n",
    "    if x < 0:\n",
    "        return 0\n",
    "    else:\n",
    "        return x ** 2\n",
    "\n",
    "# Vectorize the function\n",
    "vectorized_square = np.vectorize(square_positive)\n",
    "\n",
    "# Apply the vectorized function to an array\n",
    "array = np.array([-1, 0, 2, 3, 4])\n",
    "result = vectorized_square(array)\n",
    "print(result)  # Output: [ 0  0  4  9 16]\n"
   ]
  },
  {
   "cell_type": "markdown",
   "id": "5e5df872-728c-40de-a2a5-34171486d659",
   "metadata": {},
   "source": [
    "# Broadcasting "
   ]
  },
  {
   "cell_type": "markdown",
   "id": "359c8cf2-36f3-4307-81d9-7a2e3904f043",
   "metadata": {},
   "source": [
    "Broadcasting is the term used to describe the implicit element-by-element behavior  of operations; generally speaking, in NumPy all operation not just the arithmitic operations, but logical, bit-wise, functional... behave in this implicit element-by-element fashion, Moreever , in the example of multiply a and b , a and b could be multidimentsional arrays of the same shape, or a scalar and array, or even two arrays with different shapes"
   ]
  },
  {
   "cell_type": "code",
   "execution_count": 15,
   "id": "948a49ce-4050-4c53-bcbe-c45cf458d1e1",
   "metadata": {},
   "outputs": [],
   "source": [
    "# broadcasting is a NumPy mechanisms that allows NumPy to perform  operation or arrays of differents size\n",
    "# by aligning them appropriatly, It is often used in conjection with the vectorization to handle arrays of varying \n",
    "# dementions "
   ]
  },
  {
   "cell_type": "code",
   "execution_count": null,
   "id": "d509c781-10bf-481e-a077-f008c9fc4be0",
   "metadata": {},
   "outputs": [],
   "source": []
  }
 ],
 "metadata": {
  "kernelspec": {
   "display_name": "Python 3 (ipykernel)",
   "language": "python",
   "name": "python3"
  },
  "language_info": {
   "codemirror_mode": {
    "name": "ipython",
    "version": 3
   },
   "file_extension": ".py",
   "mimetype": "text/x-python",
   "name": "python",
   "nbconvert_exporter": "python",
   "pygments_lexer": "ipython3",
   "version": "3.12.8"
  }
 },
 "nbformat": 4,
 "nbformat_minor": 5
}
