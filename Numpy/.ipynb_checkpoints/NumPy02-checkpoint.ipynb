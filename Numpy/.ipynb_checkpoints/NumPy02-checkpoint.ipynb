{
 "cells": [
  {
   "cell_type": "code",
   "execution_count": 3,
   "id": "11189824-e95b-41a5-8224-2440f0b662b6",
   "metadata": {},
   "outputs": [],
   "source": [
    "import numpy as np\n"
   ]
  },
  {
   "cell_type": "code",
   "execution_count": 4,
   "id": "571661d9-cd17-4218-89ea-1088f4e7d8ff",
   "metadata": {},
   "outputs": [],
   "source": [
    "# NumPy's main objective is the homogeneous multidimensional array.\n",
    "# IT is a table of elements ( usually numbers) a;; of the same type , indexed by a tuple\n",
    "# of non negative integers\n"
   ]
  },
  {
   "cell_type": "markdown",
   "id": "08e4193d-ff06-4f5f-992f-f87c23981107",
   "metadata": {},
   "source": [
    "In NumPy dimensions are called # Axed"
   ]
  },
  {
   "cell_type": "code",
   "execution_count": 5,
   "id": "e67a2ed1-20cd-430c-bd1e-e5122fae5c04",
   "metadata": {},
   "outputs": [],
   "source": [
    "# NumPy's array class is called ndarray "
   ]
  },
  {
   "cell_type": "markdown",
   "id": "8ce63c50-afba-4de0-8da5-942b28bfeeca",
   "metadata": {},
   "source": [
    "It is knwon by the alias array, Not that numpy.array is not the same as the Standard Python\n",
    " Libraru class array.array  which only handle one dimensional arrays and offers less functionality\n",
    " the more important attributes of the ndarray object are :\n",
    " - ndarray.ndim : the number of axes (dimensions) of the array\n",
    " - ndarray.shape :  the dimensions of array, this is a tuple of integers indicating the size of array in each dimension Ex :  in a matrix(n,m) the length of the shape tuple therefore the number of axes  , ndim\n",
    " - ndarray.size : the total number of elements of the array, this is equal to the product of the element shape\n",
    " - ndarray.dtype an object describing the type of elements in the array , one can create or specify dtype's using standard Python types Additionally NumPy provides types of its own, numpy.int32. numpy.int64...\n",
    " - ndarray.itemsize the size in bytes of each element of the array\n",
    " - ndarray.data the buffer containing the actual elements of the array, usually we won't need to use this attributes because we will access the elements in an array using the indexing facilities"
   ]
  },
  {
   "cell_type": "code",
   "execution_count": 6,
   "id": "7ae98552-6009-4c7b-9133-0e6140165cb4",
   "metadata": {},
   "outputs": [
    {
     "data": {
      "text/plain": [
       "array([[ 0,  1,  2,  3,  4],\n",
       "       [ 5,  6,  7,  8,  9],\n",
       "       [10, 11, 12, 13, 14]])"
      ]
     },
     "execution_count": 6,
     "metadata": {},
     "output_type": "execute_result"
    }
   ],
   "source": [
    "a = np.arange(15).reshape(3,5)\n",
    "a"
   ]
  },
  {
   "cell_type": "code",
   "execution_count": 7,
   "id": "8c89786b-5528-4a4c-9aa2-5209775bde82",
   "metadata": {},
   "outputs": [
    {
     "data": {
      "text/plain": [
       "(3, 5)"
      ]
     },
     "execution_count": 7,
     "metadata": {},
     "output_type": "execute_result"
    }
   ],
   "source": [
    "a.shape"
   ]
  },
  {
   "cell_type": "code",
   "execution_count": 8,
   "id": "7bf21982-4baf-434c-981e-a88e02884883",
   "metadata": {},
   "outputs": [
    {
     "data": {
      "text/plain": [
       "2"
      ]
     },
     "execution_count": 8,
     "metadata": {},
     "output_type": "execute_result"
    }
   ],
   "source": [
    "a.ndim #we have to understand this more?"
   ]
  },
  {
   "cell_type": "code",
   "execution_count": 9,
   "id": "fcbe1fc3-3850-492a-ad75-7b405c15db85",
   "metadata": {},
   "outputs": [
    {
     "data": {
      "text/plain": [
       "15"
      ]
     },
     "execution_count": 9,
     "metadata": {},
     "output_type": "execute_result"
    }
   ],
   "source": [
    "a.size"
   ]
  },
  {
   "cell_type": "code",
   "execution_count": 10,
   "id": "48346acf-ddb4-48d6-a676-3c6f5f0d57b1",
   "metadata": {},
   "outputs": [
    {
     "data": {
      "text/plain": [
       "numpy.ndarray"
      ]
     },
     "execution_count": 10,
     "metadata": {},
     "output_type": "execute_result"
    }
   ],
   "source": [
    "type(a)"
   ]
  },
  {
   "cell_type": "code",
   "execution_count": 11,
   "id": "2854dd9c-4648-4f32-a751-457db9ef6deb",
   "metadata": {},
   "outputs": [
    {
     "data": {
      "text/plain": [
       "array([6, 7, 8])"
      ]
     },
     "execution_count": 11,
     "metadata": {},
     "output_type": "execute_result"
    }
   ],
   "source": [
    "b = np.array([6,7,8])\n",
    "b"
   ]
  },
  {
   "cell_type": "code",
   "execution_count": 12,
   "id": "c26e6e29-3d24-4d42-90d6-f8880926e86c",
   "metadata": {},
   "outputs": [
    {
     "data": {
      "text/plain": [
       "numpy.ndarray"
      ]
     },
     "execution_count": 12,
     "metadata": {},
     "output_type": "execute_result"
    }
   ],
   "source": [
    "type(b)"
   ]
  },
  {
   "cell_type": "markdown",
   "id": "1bfc4ea0-cc11-42ba-ab76-b98a60e9aa7c",
   "metadata": {},
   "source": [
    "#  Array Creation"
   ]
  },
  {
   "cell_type": "markdown",
   "id": "d8fc5308-9f01-4174-8e0d-5a37b7239c58",
   "metadata": {},
   "source": [
    "There are several way to create an array"
   ]
  },
  {
   "cell_type": "code",
   "execution_count": 13,
   "id": "f71ba97f-0ff9-4e84-a126-3eaca2a1377d",
   "metadata": {},
   "outputs": [
    {
     "data": {
      "text/plain": [
       "array([2, 3, 4])"
      ]
     },
     "execution_count": 13,
     "metadata": {},
     "output_type": "execute_result"
    }
   ],
   "source": [
    "a = np.array([2,3,4])\n",
    "a"
   ]
  },
  {
   "cell_type": "code",
   "execution_count": 14,
   "id": "89283f12-5de1-498b-a017-053a4791a1a3",
   "metadata": {},
   "outputs": [
    {
     "data": {
      "text/plain": [
       "dtype('int64')"
      ]
     },
     "execution_count": 14,
     "metadata": {},
     "output_type": "execute_result"
    }
   ],
   "source": [
    "a.dtype"
   ]
  },
  {
   "cell_type": "code",
   "execution_count": 15,
   "id": "fa45e2b6-0b96-4614-9a9a-d0bd3f3cad59",
   "metadata": {},
   "outputs": [],
   "source": [
    "# The function zeros creates an array full of zeros, the function  ones create an array full of ones, and the function empty creates an array whose initial content is randomand depends on the state of \n",
    "# memory. By default , the dtype of the created array is float\n"
   ]
  },
  {
   "cell_type": "code",
   "execution_count": 16,
   "id": "318a6165-c94d-4131-a071-0a76b78d94b2",
   "metadata": {},
   "outputs": [
    {
     "data": {
      "text/plain": [
       "array([[0., 0., 0., 0.],\n",
       "       [0., 0., 0., 0.],\n",
       "       [0., 0., 0., 0.]])"
      ]
     },
     "execution_count": 16,
     "metadata": {},
     "output_type": "execute_result"
    }
   ],
   "source": [
    "np.zeros((3,4))"
   ]
  },
  {
   "cell_type": "code",
   "execution_count": 17,
   "id": "566a7fb7-eb72-46ff-b77a-cf05508c3997",
   "metadata": {},
   "outputs": [
    {
     "data": {
      "text/plain": [
       "array([[[1., 1., 1., 1.],\n",
       "        [1., 1., 1., 1.],\n",
       "        [1., 1., 1., 1.]],\n",
       "\n",
       "       [[1., 1., 1., 1.],\n",
       "        [1., 1., 1., 1.],\n",
       "        [1., 1., 1., 1.]]])"
      ]
     },
     "execution_count": 17,
     "metadata": {},
     "output_type": "execute_result"
    }
   ],
   "source": [
    "np.ones((2,3,4))"
   ]
  },
  {
   "cell_type": "code",
   "execution_count": 18,
   "id": "a1926097-db5a-46fc-a403-38948e520545",
   "metadata": {},
   "outputs": [
    {
     "data": {
      "text/plain": [
       "array([[4.65156928e-310, 0.00000000e+000, 4.65266108e-310],\n",
       "       [4.65266154e-310, 0.00000000e+000, 0.00000000e+000]])"
      ]
     },
     "execution_count": 18,
     "metadata": {},
     "output_type": "execute_result"
    }
   ],
   "source": [
    "np.empty((2,3))"
   ]
  },
  {
   "cell_type": "code",
   "execution_count": 19,
   "id": "c3a984e6-bc8f-4f5f-aee3-80dd73a4ed13",
   "metadata": {},
   "outputs": [],
   "source": [
    "# To create sequences of numbers, NumPy provides a function  analogous to range that returns arrays instead of lists"
   ]
  },
  {
   "cell_type": "code",
   "execution_count": 20,
   "id": "0712e846-0afc-461f-bb57-24516d675668",
   "metadata": {},
   "outputs": [
    {
     "data": {
      "text/plain": [
       "array([10, 15, 20, 25])"
      ]
     },
     "execution_count": 20,
     "metadata": {},
     "output_type": "execute_result"
    }
   ],
   "source": [
    "np.arange(10,30,5)"
   ]
  },
  {
   "cell_type": "code",
   "execution_count": 21,
   "id": "f6f33d45-787f-4d7b-a2f2-32c643c22442",
   "metadata": {},
   "outputs": [
    {
     "data": {
      "text/plain": [
       "array([0. , 0.3, 0.6, 0.9, 1.2, 1.5, 1.8])"
      ]
     },
     "execution_count": 21,
     "metadata": {},
     "output_type": "execute_result"
    }
   ],
   "source": [
    "np.arange(0,2,0.3)"
   ]
  },
  {
   "cell_type": "markdown",
   "id": "ac7902b0-d811-4f29-a1ee-2a86b2666280",
   "metadata": {},
   "source": [
    "NP: when arange is used with floating point arguments, it is generally not possible to predict the number of elements obtained, due to the finite point precision, for this reason it is usually better to use the function linspace that receives as an argument the number of elements that we want, intsead of step:"
   ]
  },
  {
   "cell_type": "code",
   "execution_count": 22,
   "id": "da254d55-eab7-466c-a7be-41cb9761f06a",
   "metadata": {},
   "outputs": [],
   "source": [
    "from numpy import pi"
   ]
  },
  {
   "cell_type": "code",
   "execution_count": 23,
   "id": "0795395c-36be-4e45-9846-193ed0bfa081",
   "metadata": {},
   "outputs": [
    {
     "data": {
      "text/plain": [
       "array([0.  , 0.25, 0.5 , 0.75, 1.  , 1.25, 1.5 , 1.75, 2.  ])"
      ]
     },
     "execution_count": 23,
     "metadata": {},
     "output_type": "execute_result"
    }
   ],
   "source": [
    "np.linspace(0,2,9)"
   ]
  },
  {
   "cell_type": "code",
   "execution_count": 24,
   "id": "f548aed4-6d8d-4378-98ab-544aa52f9ca9",
   "metadata": {},
   "outputs": [
    {
     "data": {
      "text/plain": [
       "array([0.        , 0.05193528, 0.10387056, 0.15580584, 0.20774112,\n",
       "       0.2596764 , 0.31161168, 0.36354696, 0.41548223, 0.46741751,\n",
       "       0.51935279, 0.57128807, 0.62322335, 0.67515863, 0.72709391,\n",
       "       0.77902919, 0.83096447, 0.88289975, 0.93483503, 0.98677031,\n",
       "       1.03870559, 1.09064087, 1.14257615, 1.19451142, 1.2464467 ,\n",
       "       1.29838198, 1.35031726, 1.40225254, 1.45418782, 1.5061231 ,\n",
       "       1.55805838, 1.60999366, 1.66192894, 1.71386422, 1.7657995 ,\n",
       "       1.81773478, 1.86967006, 1.92160534, 1.97354061, 2.02547589,\n",
       "       2.07741117, 2.12934645, 2.18128173, 2.23321701, 2.28515229,\n",
       "       2.33708757, 2.38902285, 2.44095813, 2.49289341, 2.54482869,\n",
       "       2.59676397, 2.64869925, 2.70063453, 2.7525698 , 2.80450508,\n",
       "       2.85644036, 2.90837564, 2.96031092, 3.0122462 , 3.06418148,\n",
       "       3.11611676, 3.16805204, 3.21998732, 3.2719226 , 3.32385788,\n",
       "       3.37579316, 3.42772844, 3.47966372, 3.53159899, 3.58353427,\n",
       "       3.63546955, 3.68740483, 3.73934011, 3.79127539, 3.84321067,\n",
       "       3.89514595, 3.94708123, 3.99901651, 4.05095179, 4.10288707,\n",
       "       4.15482235, 4.20675763, 4.2586929 , 4.31062818, 4.36256346,\n",
       "       4.41449874, 4.46643402, 4.5183693 , 4.57030458, 4.62223986,\n",
       "       4.67417514, 4.72611042, 4.7780457 , 4.82998098, 4.88191626,\n",
       "       4.93385154, 4.98578682, 5.03772209, 5.08965737, 5.14159265])"
      ]
     },
     "execution_count": 24,
     "metadata": {},
     "output_type": "execute_result"
    }
   ],
   "source": [
    "x = np.linspace(0,2+pi,100)\n",
    "x"
   ]
  },
  {
   "cell_type": "code",
   "execution_count": 25,
   "id": "77a96047-15e2-428a-aa0d-abec0e31f6b7",
   "metadata": {},
   "outputs": [
    {
     "data": {
      "text/plain": [
       "array([ 0.        ,  0.05191194,  0.10368388,  0.15517623,  0.20625011,\n",
       "        0.25676781,  0.30659309,  0.35559159,  0.40363118,  0.45058232,\n",
       "        0.49631838,  0.54071603,  0.58365555,  0.62502115,  0.66470128,\n",
       "        0.70258893,  0.73858192,  0.77258321,  0.8045011 ,  0.83424952,\n",
       "        0.86174825,  0.88692312,  0.90970626,  0.93003623,  0.9478582 ,\n",
       "        0.96312411,  0.97579279,  0.98583009,  0.99320893,  0.99790942,\n",
       "        0.99991887,  0.99923188,  0.9958503 ,  0.98978323,  0.98104706,\n",
       "        0.96966532,  0.95566872,  0.939095  ,  0.91998885,  0.8984018 ,\n",
       "        0.87439206,  0.84802437,  0.81936985,  0.78850576,  0.75551533,\n",
       "        0.72048752,  0.6835168 ,  0.64470287,  0.60415038,  0.56196871,\n",
       "        0.51827159,  0.47317686,  0.42680614,  0.37928446,  0.33073997,\n",
       "        0.2813036 ,  0.23110863,  0.18029045,  0.12898608,  0.07733388,\n",
       "        0.02547314, -0.0264563 , -0.07831439, -0.1299613 , -0.18125774,\n",
       "       -0.23206539, -0.28224724, -0.33166796, -0.38019428, -0.42769535,\n",
       "       -0.47404306, -0.51911244, -0.56278194, -0.60493381, -0.64545437,\n",
       "       -0.68423436, -0.72116919, -0.75615928, -0.78911025, -0.81993325,\n",
       "       -0.84854517, -0.87486885, -0.89883329, -0.92037388, -0.93943253,\n",
       "       -0.95595784, -0.96990525, -0.98123715, -0.98992298, -0.99593932,\n",
       "       -0.99926994, -0.99990586, -0.99784537, -0.99309402, -0.98566463,\n",
       "       -0.97557723, -0.96285903, -0.94754431, -0.92967438, -0.90929743])"
      ]
     },
     "execution_count": 25,
     "metadata": {},
     "output_type": "execute_result"
    }
   ],
   "source": [
    "f  = np.sin(x)\n",
    "f"
   ]
  },
  {
   "cell_type": "markdown",
   "id": "07961b41-11e6-40e7-8434-0c30adf249c5",
   "metadata": {},
   "source": [
    "# Excercices "
   ]
  },
  {
   "cell_type": "markdown",
   "id": "111d4950-1a1f-4d07-8977-56692d296b34",
   "metadata": {},
   "source": [
    "* Create the following arrays using NumPy :\n",
    "    - a) A 1D array containing the numbers 1,2,3,4,5\n",
    "    - b) A 2D array of shape 2*3 with the elements 1,2,3,4,5,6\n",
    "    - c) A 3D array of shape 2*2*2 with the values from  1 to 8"
   ]
  },
  {
   "cell_type": "code",
   "execution_count": 26,
   "id": "9b31652c-9a7e-470f-ac31-fd17ee700604",
   "metadata": {},
   "outputs": [],
   "source": [
    "# The first one :  1D array conataining the number 1,2,3,4,5\n"
   ]
  },
  {
   "cell_type": "code",
   "execution_count": 28,
   "id": "e7b3cd1f-8785-43b3-9d55-b2c7f6e3633f",
   "metadata": {},
   "outputs": [
    {
     "data": {
      "text/plain": [
       "array([1, 2, 3, 4, 5])"
      ]
     },
     "execution_count": 28,
     "metadata": {},
     "output_type": "execute_result"
    }
   ],
   "source": [
    "x = np.array([1,2,3,4,5])\n",
    "x"
   ]
  },
  {
   "cell_type": "code",
   "execution_count": 29,
   "id": "5dea9bde-e3e8-4b32-be90-e8001c57cadc",
   "metadata": {},
   "outputs": [],
   "source": [
    "# The second array : 2D array of the shape 2*3 with the elements 1,2,3,4,5,6"
   ]
  },
  {
   "cell_type": "code",
   "execution_count": 34,
   "id": "173cb22e-c2e1-4dd2-98b6-f44f89f8fc58",
   "metadata": {},
   "outputs": [
    {
     "data": {
      "text/plain": [
       "array([[1, 2, 3],\n",
       "       [4, 5, 6]])"
      ]
     },
     "execution_count": 34,
     "metadata": {},
     "output_type": "execute_result"
    }
   ],
   "source": [
    "y = np.arange(1,7).reshape(2,3)\n",
    "y"
   ]
  },
  {
   "cell_type": "code",
   "execution_count": 35,
   "id": "b1a3b00b-d4c7-4d87-a388-0f35e94210ce",
   "metadata": {},
   "outputs": [],
   "source": [
    "# the third array : 3D array of shape (2*2*2) with values form 1 to 8"
   ]
  },
  {
   "cell_type": "code",
   "execution_count": 37,
   "id": "ff348c19-2cd1-40ee-a948-62d507ae8057",
   "metadata": {},
   "outputs": [
    {
     "data": {
      "text/plain": [
       "array([[[1, 2],\n",
       "        [3, 4]],\n",
       "\n",
       "       [[5, 6],\n",
       "        [7, 8]]])"
      ]
     },
     "execution_count": 37,
     "metadata": {},
     "output_type": "execute_result"
    }
   ],
   "source": [
    "z = np.arange(1,9).reshape(2,2,2)\n",
    "z"
   ]
  },
  {
   "cell_type": "markdown",
   "id": "b92e17a1-8cfe-4699-9360-e8fb2d8290ea",
   "metadata": {},
   "source": [
    "* Creating Arrays with functions\n",
    "  - Use NumPy functions to generate the following arrays :\n",
    "      - a) A 1D array of size 10 filled with zeros\n",
    "      - b) A 1D array of size 10 filled with  ones\n",
    "      - c) A 1D array of size 10 filled with the number 7\n",
    "      - d) A 1D array containing numberd from 0 to 9\n",
    "      - e) A 1D array conatining even numbers from 2 to 20\n",
    "      - f) A 1D array containing 5number evenly spaced between 10 and 50 "
   ]
  },
  {
   "cell_type": "code",
   "execution_count": 38,
   "id": "e20917ea-fc71-489d-a023-6819b141b902",
   "metadata": {},
   "outputs": [],
   "source": [
    "# a) A 1D array of size 10 filled with zeros"
   ]
  },
  {
   "cell_type": "code",
   "execution_count": 40,
   "id": "8d9e2b2a-23d0-46d7-8563-4f7d8da90153",
   "metadata": {},
   "outputs": [
    {
     "data": {
      "text/plain": [
       "array([0., 0., 0., 0., 0., 0., 0., 0., 0., 0.])"
      ]
     },
     "execution_count": 40,
     "metadata": {},
     "output_type": "execute_result"
    }
   ],
   "source": [
    "zeros = np.zeros(10)\n",
    "zeros"
   ]
  },
  {
   "cell_type": "code",
   "execution_count": 41,
   "id": "4a3af712-1958-4a93-8626-348cc9c7d379",
   "metadata": {},
   "outputs": [],
   "source": [
    "# b) A 1D array of size 10 filled with ones"
   ]
  },
  {
   "cell_type": "code",
   "execution_count": 43,
   "id": "1fc94d8d-52ec-42d7-8685-72b2bb29a9f1",
   "metadata": {},
   "outputs": [
    {
     "data": {
      "text/plain": [
       "array([1., 1., 1., 1., 1., 1., 1., 1., 1., 1.])"
      ]
     },
     "execution_count": 43,
     "metadata": {},
     "output_type": "execute_result"
    }
   ],
   "source": [
    "ones = np.ones(10)\n",
    "ones"
   ]
  },
  {
   "cell_type": "code",
   "execution_count": 44,
   "id": "2f74b998-84e1-4895-b02f-c2aa60279209",
   "metadata": {},
   "outputs": [],
   "source": [
    "#A 1D array of size 10 filled with the number 7"
   ]
  },
  {
   "cell_type": "code",
   "execution_count": 45,
   "id": "9e31df7b-f278-4082-98ac-cafd6b7bd082",
   "metadata": {},
   "outputs": [],
   "source": [
    "# I dunno how "
   ]
  },
  {
   "cell_type": "code",
   "execution_count": null,
   "id": "4ea19930-4861-47d4-88e9-676dca7852de",
   "metadata": {},
   "outputs": [],
   "source": []
  }
 ],
 "metadata": {
  "kernelspec": {
   "display_name": "Python 3 (ipykernel)",
   "language": "python",
   "name": "python3"
  },
  "language_info": {
   "codemirror_mode": {
    "name": "ipython",
    "version": 3
   },
   "file_extension": ".py",
   "mimetype": "text/x-python",
   "name": "python",
   "nbconvert_exporter": "python",
   "pygments_lexer": "ipython3",
   "version": "3.12.8"
  }
 },
 "nbformat": 4,
 "nbformat_minor": 5
}
