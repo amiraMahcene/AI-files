{
 "cells": [
  {
   "cell_type": "code",
   "execution_count": 1,
   "id": "486dde73-8cf0-4524-86f3-b9b4808e9301",
   "metadata": {},
   "outputs": [
    {
     "name": "stdout",
     "output_type": "stream",
     "text": [
      "20\n"
     ]
    }
   ],
   "source": [
    "class StackArray:\n",
    "    def __init__(self, size):\n",
    "        self.stack = []\n",
    "        self.size = size\n",
    "\n",
    "    def push(self, x):\n",
    "        if len(self.stack) < self.size:\n",
    "            self.stack.append(x)\n",
    "        else:\n",
    "            print(\"Stack Overflow\")\n",
    "\n",
    "    def pop(self):\n",
    "        if not self.is_empty():\n",
    "            return self.stack.pop()\n",
    "        else:\n",
    "            print(\"Stack Underflow\")\n",
    "            return None\n",
    "\n",
    "    def peek(self):\n",
    "        return self.stack[-1] if not self.is_empty() else None\n",
    "\n",
    "    def is_empty(self):\n",
    "        return len(self.stack) == 0\n",
    "\n",
    "# Example usage:\n",
    "stack = StackArray(5)\n",
    "stack.push(10)\n",
    "stack.push(20)\n",
    "print(stack.pop())  # Output: 20\n"
   ]
  },
  {
   "cell_type": "code",
   "execution_count": 16,
   "id": "cb73aa5f-d7f3-4bf5-9959-1c9d56d8be6f",
   "metadata": {},
   "outputs": [],
   "source": [
    "# ---Implement a Stack using an Array and a Linked List\n"
   ]
  },
  {
   "cell_type": "code",
   "execution_count": 15,
   "id": "018c396e-95e0-457a-b2b0-de0fd2633ffc",
   "metadata": {},
   "outputs": [],
   "source": [
    "#Solution (Using a Linked List)"
   ]
  },
  {
   "cell_type": "code",
   "execution_count": 2,
   "id": "5f344030-739d-4202-86b5-f8d3fb206447",
   "metadata": {},
   "outputs": [
    {
     "name": "stdout",
     "output_type": "stream",
     "text": [
      "20\n"
     ]
    }
   ],
   "source": [
    "class Node:\n",
    "    def __init__(self, value):\n",
    "        self.value = value\n",
    "        self.next = None\n",
    "\n",
    "class StackLinkedList:\n",
    "    def __init__(self):\n",
    "        self.top = None\n",
    "\n",
    "    def push(self, x):\n",
    "        new_node = Node(x)\n",
    "        new_node.next = self.top\n",
    "        self.top = new_node\n",
    "\n",
    "    def pop(self):\n",
    "        if self.top is None:\n",
    "            print(\"Stack Underflow\")\n",
    "            return None\n",
    "        value = self.top.value\n",
    "        self.top = self.top.next\n",
    "        return value\n",
    "\n",
    "    def peek(self):\n",
    "        return self.top.value if self.top else None\n",
    "\n",
    "# Example usage:\n",
    "stack = StackLinkedList()\n",
    "stack.push(10)\n",
    "stack.push(20)\n",
    "print(stack.pop())  # Output: 20\n"
   ]
  },
  {
   "cell_type": "code",
   "execution_count": null,
   "id": "c7680179-63e5-4bc8-b978-f57007348cde",
   "metadata": {},
   "outputs": [],
   "source": []
  },
  {
   "cell_type": "code",
   "execution_count": 14,
   "id": "4b6dc913-5bb2-4226-9eb8-595ee69f44ea",
   "metadata": {},
   "outputs": [],
   "source": [
    "#Reverse a String using a Stack"
   ]
  },
  {
   "cell_type": "code",
   "execution_count": 3,
   "id": "9568515b-3ee0-48bd-8b40-09a41616f969",
   "metadata": {},
   "outputs": [
    {
     "name": "stdout",
     "output_type": "stream",
     "text": [
      "olleh\n"
     ]
    }
   ],
   "source": [
    "def reverse_string(s):\n",
    "    stack = list(s)  # Use a list as a stack\n",
    "    reversed_s = \"\"\n",
    "    while stack:\n",
    "        reversed_s += stack.pop()\n",
    "    return reversed_s\n",
    "\n",
    "# Example usage:\n",
    "print(reverse_string(\"hello\"))  # Output: \"olleh\"\n"
   ]
  },
  {
   "cell_type": "code",
   "execution_count": 13,
   "id": "8eb7f5a5-57c2-4b2c-b5d9-5047d24fa78c",
   "metadata": {},
   "outputs": [],
   "source": [
    "#Check if a String has Balanced Parentheses"
   ]
  },
  {
   "cell_type": "code",
   "execution_count": 4,
   "id": "3fef4f80-7982-40c4-b1b3-6e0c993630e3",
   "metadata": {},
   "outputs": [
    {
     "name": "stdout",
     "output_type": "stream",
     "text": [
      "True\n",
      "False\n"
     ]
    }
   ],
   "source": [
    "def is_balanced(s):\n",
    "    stack = []\n",
    "    pairs = {')': '(', '}': '{', ']': '['}\n",
    "    \n",
    "    for char in s:\n",
    "        if char in \"({[\":\n",
    "            stack.append(char)\n",
    "        elif char in \")}]\":\n",
    "            if not stack or stack.pop() != pairs[char]:\n",
    "                return False\n",
    "    return len(stack) == 0\n",
    "\n",
    "# Example usage:\n",
    "print(is_balanced(\"({[()]})\"))  # Output: True\n",
    "print(is_balanced(\"({[})\"))     # Output: False\n"
   ]
  },
  {
   "cell_type": "code",
   "execution_count": 12,
   "id": "1e90fd39-b1e6-4316-a1c8-e2a01b4dbe87",
   "metadata": {},
   "outputs": [],
   "source": [
    "# Convert an Infix Expression to Postfix"
   ]
  },
  {
   "cell_type": "code",
   "execution_count": 5,
   "id": "70de2581-005f-4168-8a76-15003b282954",
   "metadata": {},
   "outputs": [
    {
     "name": "stdout",
     "output_type": "stream",
     "text": [
      "ABCD^E-*+\n"
     ]
    }
   ],
   "source": [
    "precedence = {'+': 1, '-': 1, '*': 2, '/': 2, '^': 3}\n",
    "\n",
    "def infix_to_postfix(expression):\n",
    "    stack = []\n",
    "    output = []\n",
    "    \n",
    "    for char in expression:\n",
    "        if char.isalnum():\n",
    "            output.append(char)\n",
    "        elif char in precedence:\n",
    "            while stack and precedence.get(stack[-1], 0) >= precedence[char]:\n",
    "                output.append(stack.pop())\n",
    "            stack.append(char)\n",
    "        elif char == '(':\n",
    "            stack.append(char)\n",
    "        elif char == ')':\n",
    "            while stack and stack[-1] != '(':\n",
    "                output.append(stack.pop())\n",
    "            stack.pop()\n",
    "    \n",
    "    while stack:\n",
    "        output.append(stack.pop())\n",
    "\n",
    "    return \"\".join(output)\n",
    "\n",
    "# Example usage:\n",
    "print(infix_to_postfix(\"A+B*(C^D-E)\"))  # Output: \"ABCD^E-*+\"\n"
   ]
  },
  {
   "cell_type": "code",
   "execution_count": 11,
   "id": "842bf7d8-ffe7-4e53-aeb9-7921e1a3634c",
   "metadata": {},
   "outputs": [],
   "source": [
    "#Implement Two Stacks Using a Single Array"
   ]
  },
  {
   "cell_type": "code",
   "execution_count": 6,
   "id": "74c3f92f-d189-4516-b042-86f2914d9872",
   "metadata": {},
   "outputs": [
    {
     "name": "stdout",
     "output_type": "stream",
     "text": [
      "10\n",
      "20\n"
     ]
    }
   ],
   "source": [
    "class TwoStacks:\n",
    "    def __init__(self, size):\n",
    "        self.arr = [None] * size\n",
    "        self.size = size\n",
    "        self.top1 = -1\n",
    "        self.top2 = size\n",
    "\n",
    "    def push1(self, x):\n",
    "        if self.top1 < self.top2 - 1:\n",
    "            self.top1 += 1\n",
    "            self.arr[self.top1] = x\n",
    "        else:\n",
    "            print(\"Stack Overflow\")\n",
    "\n",
    "    def push2(self, x):\n",
    "        if self.top1 < self.top2 - 1:\n",
    "            self.top2 -= 1\n",
    "            self.arr[self.top2] = x\n",
    "        else:\n",
    "            print(\"Stack Overflow\")\n",
    "\n",
    "    def pop1(self):\n",
    "        if self.top1 >= 0:\n",
    "            x = self.arr[self.top1]\n",
    "            self.top1 -= 1\n",
    "            return x\n",
    "        print(\"Stack Underflow\")\n",
    "        return None\n",
    "\n",
    "    def pop2(self):\n",
    "        if self.top2 < self.size:\n",
    "            x = self.arr[self.top2]\n",
    "            self.top2 += 1\n",
    "            return x\n",
    "        print(\"Stack Underflow\")\n",
    "        return None\n",
    "\n",
    "# Example usage:\n",
    "ts = TwoStacks(5)\n",
    "ts.push1(10)\n",
    "ts.push2(20)\n",
    "print(ts.pop1())  # Output: 10\n",
    "print(ts.pop2())  # Output: 20\n"
   ]
  },
  {
   "cell_type": "code",
   "execution_count": 10,
   "id": "e5505732-627a-4e1c-9fe2-240e9b9ee4ef",
   "metadata": {},
   "outputs": [
    {
     "ename": "SyntaxError",
     "evalue": "invalid syntax. Perhaps you forgot a comma? (3650691668.py, line 2)",
     "output_type": "error",
     "traceback": [
      "\u001b[0;36m  Cell \u001b[0;32mIn[10], line 2\u001b[0;36m\u001b[0m\n\u001b[0;31m    Solution (Using an Array)\u001b[0m\n\u001b[0m              ^\u001b[0m\n\u001b[0;31mSyntaxError\u001b[0m\u001b[0;31m:\u001b[0m invalid syntax. Perhaps you forgot a comma?\n"
     ]
    }
   ],
   "source": [
    "#Implement a Queue using an Array and a Linked List\n",
    "# Solution (Using an Array)"
   ]
  },
  {
   "cell_type": "code",
   "execution_count": 7,
   "id": "cc18e375-41b6-4a23-9e81-38448d64e375",
   "metadata": {
    "scrolled": true
   },
   "outputs": [
    {
     "name": "stdout",
     "output_type": "stream",
     "text": [
      "10\n"
     ]
    }
   ],
   "source": [
    "class QueueArray:\n",
    "    def __init__(self, size):\n",
    "        self.queue = []\n",
    "        self.size = size\n",
    "\n",
    "    def enqueue(self, x):\n",
    "        if len(self.queue) < self.size:\n",
    "            self.queue.append(x)\n",
    "        else:\n",
    "            print(\"Queue Overflow\")\n",
    "\n",
    "    def dequeue(self):\n",
    "        if self.queue:\n",
    "            return self.queue.pop(0)\n",
    "        print(\"Queue Underflow\")\n",
    "        return None\n",
    "\n",
    "# Example usage:\n",
    "queue = QueueArray(5)\n",
    "queue.enqueue(10)\n",
    "queue.enqueue(20)\n",
    "print(queue.dequeue())  # Output: 10\n"
   ]
  },
  {
   "cell_type": "code",
   "execution_count": 9,
   "id": "864ebfe0-c3e7-4b14-9af0-a278e3e85dff",
   "metadata": {},
   "outputs": [],
   "source": [
    "#Solution (Using a Linked List)\n"
   ]
  },
  {
   "cell_type": "code",
   "execution_count": 8,
   "id": "37928501-2d7d-4d2f-af54-f436ed82f246",
   "metadata": {},
   "outputs": [
    {
     "name": "stdout",
     "output_type": "stream",
     "text": [
      "10\n"
     ]
    }
   ],
   "source": [
    "class Node:\n",
    "    def __init__(self, value):\n",
    "        self.value = value\n",
    "        self.next = None\n",
    "\n",
    "class QueueLinkedList:\n",
    "    def __init__(self):\n",
    "        self.front = self.rear = None\n",
    "\n",
    "    def enqueue(self, x):\n",
    "        new_node = Node(x)\n",
    "        if not self.rear:\n",
    "            self.front = self.rear = new_node\n",
    "        else:\n",
    "            self.rear.next = new_node\n",
    "            self.rear = new_node\n",
    "\n",
    "    def dequeue(self):\n",
    "        if not self.front:\n",
    "            print(\"Queue Underflow\")\n",
    "            return None\n",
    "        value = self.front.value\n",
    "        self.front = self.front.next\n",
    "        if not self.front:\n",
    "            self.rear = None\n",
    "        return value\n",
    "\n",
    "# Example usage:\n",
    "queue = QueueLinkedList()\n",
    "queue.enqueue(10)\n",
    "queue.enqueue(20)\n",
    "print(queue.dequeue())  # Output: 10\n"
   ]
  },
  {
   "cell_type": "code",
   "execution_count": null,
   "id": "529c17a6-45f1-4c11-a40e-73d7d295fb81",
   "metadata": {},
   "outputs": [],
   "source": []
  }
 ],
 "metadata": {
  "kernelspec": {
   "display_name": "Python 3 (ipykernel)",
   "language": "python",
   "name": "python3"
  },
  "language_info": {
   "codemirror_mode": {
    "name": "ipython",
    "version": 3
   },
   "file_extension": ".py",
   "mimetype": "text/x-python",
   "name": "python",
   "nbconvert_exporter": "python",
   "pygments_lexer": "ipython3",
   "version": "3.12.8"
  }
 },
 "nbformat": 4,
 "nbformat_minor": 5
}
