{
 "cells": [
  {
   "cell_type": "code",
   "execution_count": 55,
   "id": "459838cb-720f-4337-baa4-6c30d2a3c847",
   "metadata": {},
   "outputs": [],
   "source": [
    "a = ['name', 24, True]\n"
   ]
  },
  {
   "cell_type": "code",
   "execution_count": 56,
   "id": "2592901c-dded-4ba9-9c03-acb8c1127218",
   "metadata": {},
   "outputs": [
    {
     "name": "stdout",
     "output_type": "stream",
     "text": [
      "['name', 24, True]\n"
     ]
    }
   ],
   "source": [
    "print(a)"
   ]
  },
  {
   "cell_type": "code",
   "execution_count": 57,
   "id": "51058f6b-ace7-4e5e-a9e5-8592bbb2bffd",
   "metadata": {},
   "outputs": [
    {
     "data": {
      "text/plain": [
       "['name', 24, True]"
      ]
     },
     "execution_count": 57,
     "metadata": {},
     "output_type": "execute_result"
    }
   ],
   "source": [
    "a"
   ]
  },
  {
   "cell_type": "code",
   "execution_count": 58,
   "id": "af8b756b-a5ca-4ce8-9bb8-fd332d59388e",
   "metadata": {},
   "outputs": [],
   "source": [
    "# List Operation"
   ]
  },
  {
   "cell_type": "code",
   "execution_count": 59,
   "id": "9ec461b4-7ece-445d-8c8e-a9299443bf0d",
   "metadata": {},
   "outputs": [
    {
     "data": {
      "text/plain": [
       "'name'"
      ]
     },
     "execution_count": 59,
     "metadata": {},
     "output_type": "execute_result"
    }
   ],
   "source": [
    "a[0]"
   ]
  },
  {
   "cell_type": "code",
   "execution_count": 60,
   "id": "38230f9a-6465-4b12-b02c-537b5fe1ac39",
   "metadata": {},
   "outputs": [],
   "source": [
    "a[0]= 'Age'"
   ]
  },
  {
   "cell_type": "code",
   "execution_count": 61,
   "id": "3590a40f-2ea3-4fe3-a29a-859127a710e1",
   "metadata": {},
   "outputs": [
    {
     "data": {
      "text/plain": [
       "['Age', 24, True]"
      ]
     },
     "execution_count": 61,
     "metadata": {},
     "output_type": "execute_result"
    }
   ],
   "source": [
    "a"
   ]
  },
  {
   "cell_type": "code",
   "execution_count": 62,
   "id": "7fcfe1e8-be02-4f33-8519-b0fa4eb66e02",
   "metadata": {},
   "outputs": [],
   "source": [
    "a.append(\"Admi\")"
   ]
  },
  {
   "cell_type": "code",
   "execution_count": 63,
   "id": "c5923ae7-e43c-492e-a381-7d130ac04ec1",
   "metadata": {},
   "outputs": [
    {
     "data": {
      "text/plain": [
       "['Age', 24, True, 'Admi']"
      ]
     },
     "execution_count": 63,
     "metadata": {},
     "output_type": "execute_result"
    }
   ],
   "source": [
    "a"
   ]
  },
  {
   "cell_type": "code",
   "execution_count": 64,
   "id": "a2e25e5e-512b-462a-b0b3-c3cc2af001fc",
   "metadata": {},
   "outputs": [
    {
     "data": {
      "text/plain": [
       "'Admi'"
      ]
     },
     "execution_count": 64,
     "metadata": {},
     "output_type": "execute_result"
    }
   ],
   "source": [
    "a.pop()"
   ]
  },
  {
   "cell_type": "code",
   "execution_count": 65,
   "id": "788ea543-ed3c-4830-83e4-493e9a67a606",
   "metadata": {},
   "outputs": [],
   "source": [
    "a.extend([7, 8, 9])"
   ]
  },
  {
   "cell_type": "code",
   "execution_count": 66,
   "id": "ab851af7-e3e7-4f75-bc34-60af6a875743",
   "metadata": {},
   "outputs": [
    {
     "data": {
      "text/plain": [
       "['Age', 24, True, 7, 8, 9]"
      ]
     },
     "execution_count": 66,
     "metadata": {},
     "output_type": "execute_result"
    }
   ],
   "source": [
    "a"
   ]
  },
  {
   "cell_type": "code",
   "execution_count": 67,
   "id": "0667cf56-4b46-4bb1-9dd0-703216f12042",
   "metadata": {},
   "outputs": [
    {
     "name": "stdout",
     "output_type": "stream",
     "text": [
      "['Age', 24, True, 7, 8, 9, [0, 1, 0]]\n"
     ]
    }
   ],
   "source": [
    "a.append([0,1,0])\n",
    "print(a)"
   ]
  },
  {
   "cell_type": "code",
   "execution_count": 68,
   "id": "68fbc776-01fc-44d8-ac7e-3b642b228f47",
   "metadata": {},
   "outputs": [
    {
     "name": "stdout",
     "output_type": "stream",
     "text": [
      "[0, 1, 0]\n"
     ]
    }
   ],
   "source": [
    "print(a[-1])"
   ]
  },
  {
   "cell_type": "code",
   "execution_count": 69,
   "id": "b5f1599b-f07a-4383-bb5c-af9d7e4a1ee1",
   "metadata": {},
   "outputs": [],
   "source": [
    "a.insert(2, 10)"
   ]
  },
  {
   "cell_type": "code",
   "execution_count": 70,
   "id": "d97f4ff8-c008-445b-89aa-3ef856f22cd8",
   "metadata": {},
   "outputs": [
    {
     "data": {
      "text/plain": [
       "['Age', 24, 10, True, 7, 8, 9, [0, 1, 0]]"
      ]
     },
     "execution_count": 70,
     "metadata": {},
     "output_type": "execute_result"
    }
   ],
   "source": [
    "a"
   ]
  },
  {
   "cell_type": "code",
   "execution_count": 71,
   "id": "e808bf62-9150-4ab3-b7ed-4c2efafcf06a",
   "metadata": {},
   "outputs": [],
   "source": [
    "a.remove('Age')"
   ]
  },
  {
   "cell_type": "code",
   "execution_count": 72,
   "id": "250eb64e-11f0-48ce-9ab8-6a66810fb7e0",
   "metadata": {},
   "outputs": [
    {
     "data": {
      "text/plain": [
       "[24, 10, True, 7, 8, 9, [0, 1, 0]]"
      ]
     },
     "execution_count": 72,
     "metadata": {},
     "output_type": "execute_result"
    }
   ],
   "source": [
    "a"
   ]
  },
  {
   "cell_type": "code",
   "execution_count": 73,
   "id": "9149920d-db23-4937-b3d2-f1bb1426da7c",
   "metadata": {},
   "outputs": [
    {
     "data": {
      "text/plain": [
       "[24, 10, True, 7, 8, 9, [0, 1, 0]]"
      ]
     },
     "execution_count": 73,
     "metadata": {},
     "output_type": "execute_result"
    }
   ],
   "source": [
    "copy_list  = a[:]\n",
    "copy_list"
   ]
  },
  {
   "cell_type": "code",
   "execution_count": 74,
   "id": "1e22e6af-483a-4164-b607-1328d4b171fd",
   "metadata": {},
   "outputs": [],
   "source": [
    "copy_list.clear()"
   ]
  },
  {
   "cell_type": "code",
   "execution_count": 75,
   "id": "e417546d-4d62-49e5-b387-739e5c6ecf9c",
   "metadata": {},
   "outputs": [
    {
     "data": {
      "text/plain": [
       "[]"
      ]
     },
     "execution_count": 75,
     "metadata": {},
     "output_type": "execute_result"
    }
   ],
   "source": [
    "copy_list"
   ]
  },
  {
   "cell_type": "code",
   "execution_count": 76,
   "id": "51849541-0c09-46e3-aedd-94baedf70c5f",
   "metadata": {},
   "outputs": [
    {
     "data": {
      "text/plain": [
       "[10, True]"
      ]
     },
     "execution_count": 76,
     "metadata": {},
     "output_type": "execute_result"
    }
   ],
   "source": [
    "slice_list = a[1:3]\n",
    "slice_list"
   ]
  },
  {
   "cell_type": "code",
   "execution_count": 77,
   "id": "80ea78ae-cac9-4d7f-a796-18c791cf6cf8",
   "metadata": {},
   "outputs": [],
   "source": [
    "#Searching in a  list"
   ]
  },
  {
   "cell_type": "code",
   "execution_count": 78,
   "id": "036728cd-4047-4045-b375-be31c7605c9f",
   "metadata": {},
   "outputs": [
    {
     "name": "stdout",
     "output_type": "stream",
     "text": [
      "10\n",
      "True\n",
      "7\n",
      "8\n"
     ]
    }
   ],
   "source": [
    "for element in range(1,5):\n",
    "    print(a[element])"
   ]
  },
  {
   "cell_type": "code",
   "execution_count": 79,
   "id": "7e6ec377-f9e5-47fe-bf5b-a4b00eed4cdc",
   "metadata": {},
   "outputs": [
    {
     "name": "stdout",
     "output_type": "stream",
     "text": [
      "True is a part of the list :  True\n"
     ]
    }
   ],
   "source": [
    "print('True is a part of the list : ', 10 in a )"
   ]
  },
  {
   "cell_type": "code",
   "execution_count": 80,
   "id": "657615ac-336d-4cdc-a58c-114114c7ad03",
   "metadata": {},
   "outputs": [],
   "source": [
    "def big_small_number(arr):\n",
    "    return min(arr), max(arr)\n",
    "    "
   ]
  },
  {
   "cell_type": "code",
   "execution_count": 81,
   "id": "7ee9b24b-7ed0-4b57-8638-73b3498b8c17",
   "metadata": {},
   "outputs": [
    {
     "data": {
      "text/plain": [
       "(-100, 100)"
      ]
     },
     "execution_count": 81,
     "metadata": {},
     "output_type": "execute_result"
    }
   ],
   "source": [
    "list = [10,-1,3,100,-100]\n",
    "big_small_number(list)"
   ]
  },
  {
   "cell_type": "code",
   "execution_count": 82,
   "id": "fb562b46-ce1e-4268-8d7c-7d8a89ce1cdc",
   "metadata": {},
   "outputs": [],
   "source": [
    "def another_list(arr):\n",
    "    copy_list= arr\n",
    "    copy_list.insert(1,\"Good Luck\")\n",
    "    return copy_list\n",
    "    "
   ]
  },
  {
   "cell_type": "code",
   "execution_count": 53,
   "id": "9d1f5a3f-edeb-482d-981a-cb8f1777efc1",
   "metadata": {},
   "outputs": [
    {
     "data": {
      "text/plain": [
       "[24,\n",
       " 'Good Luck',\n",
       " 'Good Luck',\n",
       " 'Good Luck',\n",
       " 'Good Luck',\n",
       " 10,\n",
       " True,\n",
       " 7,\n",
       " 8,\n",
       " 9,\n",
       " 'Good Luck',\n",
       " 'Good Luck',\n",
       " [0, 1, 0]]"
      ]
     },
     "execution_count": 53,
     "metadata": {},
     "output_type": "execute_result"
    }
   ],
   "source": [
    "another_list(a)"
   ]
  },
  {
   "cell_type": "code",
   "execution_count": 54,
   "id": "5ee560ae-ff85-4a2d-802b-e252f87912cb",
   "metadata": {},
   "outputs": [
    {
     "name": "stdout",
     "output_type": "stream",
     "text": [
      "[24, 'Good Luck', 'Good Luck', 'Good Luck', 'Good Luck', 10, True, 7, 8, 9, 'Good Luck', 'Good Luck', [0, 1, 0]]\n"
     ]
    }
   ],
   "source": [
    "print(a)"
   ]
  },
  {
   "cell_type": "code",
   "execution_count": null,
   "id": "467246f5-6200-4c0d-be40-c4ccb9f0eb9b",
   "metadata": {},
   "outputs": [],
   "source": [
    "def reverse_list(lst):\n",
    "    20\n",
    "    for i in range(len(lst) - 1, -1, -1):\n",
    "        reversed_list.append(lst[i])\n",
    "    return reversed_list\n",
    "\n",
    "print(\"Reversed List:\", reverse_list([1, 2, 3, 4]))"
   ]
  }
 ],
 "metadata": {
  "kernelspec": {
   "display_name": "Python 3 (ipykernel)",
   "language": "python",
   "name": "python3"
  },
  "language_info": {
   "codemirror_mode": {
    "name": "ipython",
    "version": 3
   },
   "file_extension": ".py",
   "mimetype": "text/x-python",
   "name": "python",
   "nbconvert_exporter": "python",
   "pygments_lexer": "ipython3",
   "version": "3.12.8"
  }
 },
 "nbformat": 4,
 "nbformat_minor": 5
}
