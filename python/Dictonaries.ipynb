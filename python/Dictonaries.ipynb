{
 "cells": [
  {
   "cell_type": "code",
   "execution_count": 1,
   "id": "3ccaeb89-6681-4985-a104-bf8fdf35cb26",
   "metadata": {},
   "outputs": [
    {
     "data": {
      "text/plain": [
       "[22, 45, 10, -12, 100]"
      ]
     },
     "execution_count": 1,
     "metadata": {},
     "output_type": "execute_result"
    }
   ],
   "source": [
    "Lists = [22,45,10,-12,100]\n",
    "Lists"
   ]
  },
  {
   "cell_type": "code",
   "execution_count": 5,
   "id": "65c333f2-9f96-4fb2-9f5b-5e3a3a03c307",
   "metadata": {},
   "outputs": [],
   "source": [
    "#Sequantial search\n",
    "def SequentialSearch(arr, x):\n",
    "    for item in arr:\n",
    "        if(item == x): \n",
    "            return \" Found\"\n",
    "    return \"Not Found\"\n"
   ]
  },
  {
   "cell_type": "code",
   "execution_count": 6,
   "id": "30a479b4-a086-45f5-b6ff-38e71d69e654",
   "metadata": {},
   "outputs": [
    {
     "name": "stdout",
     "output_type": "stream",
     "text": [
      " Found\n"
     ]
    }
   ],
   "source": [
    "print(SequentialSearch(Lists, -12))"
   ]
  },
  {
   "cell_type": "code",
   "execution_count": 7,
   "id": "d6107cc7-e2f4-4e23-bfed-8b68cada84dd",
   "metadata": {},
   "outputs": [
    {
     "name": "stdout",
     "output_type": "stream",
     "text": [
      " Found\n"
     ]
    }
   ],
   "source": [
    "name = \" James\"\n",
    "print(SequentialSearch(name, \"e\"))"
   ]
  },
  {
   "cell_type": "code",
   "execution_count": 8,
   "id": "0f6fe1ae-1107-4ca6-8f63-9408d3fb99ec",
   "metadata": {},
   "outputs": [
    {
     "name": "stdout",
     "output_type": "stream",
     "text": [
      "Not Found\n"
     ]
    }
   ],
   "source": [
    "print(SequentialSearch(name, \"z\"))"
   ]
  },
  {
   "cell_type": "code",
   "execution_count": 11,
   "id": "e2b8cb19-f648-403f-a288-c1ea52a931f4",
   "metadata": {},
   "outputs": [
    {
     "name": "stdout",
     "output_type": "stream",
     "text": [
      "[-100, -9, -1, 7, 8, 23, 25, 100]\n",
      "None\n"
     ]
    }
   ],
   "source": [
    "# Binary Search Algorithm \n",
    "# 1- The first thing we have to do to apply binary search , we have to sort our list\n",
    "arr = [7,8,-1,23,25,100,-9,-100]\n",
    "sortedarr = arr.sort()\n",
    "print(arr)\n",
    "print(sortedarr)"
   ]
  },
  {
   "cell_type": "code",
   "execution_count": 18,
   "id": "4e564d17-f470-46e3-9384-1f3e9753afba",
   "metadata": {},
   "outputs": [
    {
     "data": {
      "text/plain": [
       "[-100, -9, -1, 7, 8, 23, 25, 100]"
      ]
     },
     "execution_count": 18,
     "metadata": {},
     "output_type": "execute_result"
    }
   ],
   "source": [
    "arr"
   ]
  },
  {
   "cell_type": "code",
   "execution_count": 21,
   "id": "67a8002b-f294-446b-9ebd-0b234716c218",
   "metadata": {},
   "outputs": [],
   "source": [
    "# so, we always have to make sure our list is sorted\n",
    "def binarySearch(arr, x):\n",
    "   \n",
    "    left, right= 0, len(arr)-1\n",
    "    while (left <= right):\n",
    "        mid = (left+right)//2\n",
    "        if (x == arr[mid]):\n",
    "            return \"found\"\n",
    "        elif arr[mid]>x:\n",
    "            right = mid-1\n",
    "        else:\n",
    "            left = mid+1\n",
    "    return \"not found\"\n",
    "    "
   ]
  },
  {
   "cell_type": "code",
   "execution_count": 22,
   "id": "575b5bcc-9dc9-4719-9378-7d2a5b6e34dc",
   "metadata": {},
   "outputs": [
    {
     "name": "stdout",
     "output_type": "stream",
     "text": [
      "found\n"
     ]
    }
   ],
   "source": [
    "print(binarySearch(arr, 8))"
   ]
  },
  {
   "cell_type": "code",
   "execution_count": 1,
   "id": "5fa1c0a9-259c-4390-9eaa-6d97bccbdb9c",
   "metadata": {},
   "outputs": [],
   "source": [
    "my_dic = {}"
   ]
  },
  {
   "cell_type": "code",
   "execution_count": 3,
   "id": "bf97d550-73c7-46c3-ae57-682d7c056045",
   "metadata": {},
   "outputs": [],
   "source": [
    "my_dic = {\n",
    "    'key': 'value',\n",
    "    'key2' : 'value',\n",
    "    'key3' : 'value'\n",
    "}"
   ]
  },
  {
   "cell_type": "code",
   "execution_count": 7,
   "id": "4bf54285-4043-45d5-a07c-102035cac784",
   "metadata": {},
   "outputs": [],
   "source": [
    "my_dict = {\n",
    "    \"name\": \"Amira\",\n",
    "    \"age\": 24,\n",
    "    \"profession\": \"Software Engineer\"\n",
    "}"
   ]
  },
  {
   "cell_type": "code",
   "execution_count": 9,
   "id": "b609e3a8-8085-471b-930f-e72673f33537",
   "metadata": {},
   "outputs": [
    {
     "name": "stdout",
     "output_type": "stream",
     "text": [
      "Amira\n"
     ]
    }
   ],
   "source": [
    "# Accessing to the dictionary value\n",
    "print( my_dict['name'])"
   ]
  },
  {
   "cell_type": "code",
   "execution_count": 10,
   "id": "b7a66691-680e-4364-a2bf-16d86fbc0368",
   "metadata": {},
   "outputs": [
    {
     "name": "stdout",
     "output_type": "stream",
     "text": [
      "24\n"
     ]
    }
   ],
   "source": [
    "print(my_dict['age'])"
   ]
  },
  {
   "cell_type": "code",
   "execution_count": 11,
   "id": "d4583c91-fa49-43e7-9512-adecab44dbee",
   "metadata": {},
   "outputs": [],
   "source": [
    "#Updating an existing element \n"
   ]
  },
  {
   "cell_type": "code",
   "execution_count": 12,
   "id": "6a2a9a92-0b3c-439e-b135-6f25bebe30ed",
   "metadata": {},
   "outputs": [],
   "source": [
    "my_dict[\"name\"] = \"James Jeo\"\n"
   ]
  },
  {
   "cell_type": "code",
   "execution_count": 13,
   "id": "701174d5-e6c0-46d3-9fbd-7bfa43366e85",
   "metadata": {},
   "outputs": [
    {
     "data": {
      "text/plain": [
       "{'name': 'James Jeo', 'age': 24, 'profession': 'Software Engineer'}"
      ]
     },
     "execution_count": 13,
     "metadata": {},
     "output_type": "execute_result"
    }
   ],
   "source": [
    "my_dict"
   ]
  },
  {
   "cell_type": "code",
   "execution_count": 14,
   "id": "7e75a4b4-3682-400a-acf0-efcfc4c6b84f",
   "metadata": {},
   "outputs": [
    {
     "name": "stdout",
     "output_type": "stream",
     "text": [
      "dict_keys(['name', 'age', 'profession'])\n",
      "dict_values(['James Jeo', 24, 'Software Engineer'])\n",
      "dict_items([('name', 'James Jeo'), ('age', 24), ('profession', 'Software Engineer')])\n"
     ]
    }
   ],
   "source": [
    "print(my_dict.keys())\n",
    "print(my_dict.values())\n",
    "print(my_dict.items())"
   ]
  },
  {
   "cell_type": "code",
   "execution_count": null,
   "id": "fc333302-0e21-4f07-ab31-520c1a9c9ca1",
   "metadata": {},
   "outputs": [],
   "source": []
  }
 ],
 "metadata": {
  "kernelspec": {
   "display_name": "Python 3 (ipykernel)",
   "language": "python",
   "name": "python3"
  },
  "language_info": {
   "codemirror_mode": {
    "name": "ipython",
    "version": 3
   },
   "file_extension": ".py",
   "mimetype": "text/x-python",
   "name": "python",
   "nbconvert_exporter": "python",
   "pygments_lexer": "ipython3",
   "version": "3.12.8"
  }
 },
 "nbformat": 4,
 "nbformat_minor": 5
}
