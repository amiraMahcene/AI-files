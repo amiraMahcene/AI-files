{
 "cells": [
  {
   "cell_type": "code",
   "execution_count": 1,
   "id": "2f104907-5de0-459f-86c7-d26d4943c253",
   "metadata": {},
   "outputs": [
    {
     "name": "stdout",
     "output_type": "stream",
     "text": [
      "hello world!\n"
     ]
    }
   ],
   "source": [
    "print(\"hello world!\")"
   ]
  },
  {
   "cell_type": "code",
   "execution_count": null,
   "id": "cd62ade4-5537-4cb3-9505-d7c39401e608",
   "metadata": {},
   "outputs": [],
   "source": [
    "input(\"give me your mony\")"
   ]
  },
  {
   "cell_type": "markdown",
   "id": "5503ab30-57d7-4ccf-b1d5-74ef96af6dbe",
   "metadata": {},
   "source": [
    "# first "
   ]
  },
  {
   "cell_type": "markdown",
   "id": "4cfe12bb-150d-49bb-93d0-b955e7c0b12b",
   "metadata": {},
   "source": [
    "let's start learnin"
   ]
  },
  {
   "cell_type": "code",
   "execution_count": null,
   "id": "05ecdd4f-f54a-4074-8f4e-534dbc60080c",
   "metadata": {},
   "outputs": [],
   "source": []
  }
 ],
 "metadata": {
  "kernelspec": {
   "display_name": "Python 3 (ipykernel)",
   "language": "python",
   "name": "python3"
  },
  "language_info": {
   "codemirror_mode": {
    "name": "ipython",
    "version": 3
   },
   "file_extension": ".py",
   "mimetype": "text/x-python",
   "name": "python",
   "nbconvert_exporter": "python",
   "pygments_lexer": "ipython3",
   "version": "3.12.7"
  }
 },
 "nbformat": 4,
 "nbformat_minor": 5
}
