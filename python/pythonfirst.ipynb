{
 "cells": [
  {
   "cell_type": "code",
   "execution_count": 1,
   "id": "2f104907-5de0-459f-86c7-d26d4943c253",
   "metadata": {},
   "outputs": [
    {
     "name": "stdout",
     "output_type": "stream",
     "text": [
      "hello world!\n"
     ]
    }
   ],
   "source": [
    "print(\"hello world\")"
   ]
  },
  {
   "cell_type": "code",
   "execution_count": null,
   "id": "cd62ade4-5537-4cb3-9505-d7c39401e608",
   "metadata": {},
   "outputs": [],
   "source": [
    "input(\"give me your mony\")"
   ]
  },
  {
   "cell_type": "markdown",
   "id": "5503ab30-57d7-4ccf-b1d5-74ef96af6dbe",
   "metadata": {},
   "source": [
    "# first "
   ]
  },
  {
   "cell_type": "markdown",
   "id": "4cfe12bb-150d-49bb-93d0-b955e7c0b12b",
   "metadata": {},
   "source": [
    "let's start learnin"
   ]
  },
  {
   "cell_type": "markdown",
   "id": "2a16ce5d-bc58-4ac0-a26b-53219be170e3",
   "metadata": {},
   "source": [
    "# Variable"
   ]
  },
  {
   "cell_type": "code",
   "execution_count": null,
   "id": "195a0b60-14db-47ba-8c4a-7fc9b5dd747a",
   "metadata": {},
   "outputs": [],
   "source": []
  },
  {
   "cell_type": "code",
   "execution_count": 2,
   "id": "984a44bf-1397-43ea-a686-271d09bdd23d",
   "metadata": {},
   "outputs": [],
   "source": [
    "first_name =  \"walid\""
   ]
  },
  {
   "cell_type": "code",
   "execution_count": 3,
   "id": "4f389ce7-cfaa-4cc0-a91d-f7979bea14c0",
   "metadata": {},
   "outputs": [
    {
     "name": "stdout",
     "output_type": "stream",
     "text": [
      "Walid Belattar\n"
     ]
    }
   ],
   "source": [
    "print(first_name.title())"
   ]
  },
  {
   "cell_type": "code",
   "execution_count": 4,
   "id": "0feab142-f938-4f90-a793-a4a2ad643b4a",
   "metadata": {},
   "outputs": [
    {
     "name": "stdout",
     "output_type": "stream",
     "text": [
      "WALID BELATTAR\n"
     ]
    }
   ],
   "source": [
    "print(first_name.upper())"
   ]
  },
  {
   "cell_type": "code",
   "execution_count": 5,
   "id": "530ef0d0-41ec-48b7-9063-7b91525b84da",
   "metadata": {},
   "outputs": [
    {
     "name": "stdout",
     "output_type": "stream",
     "text": [
      "walid belattarbelattar\n"
     ]
    }
   ],
   "source": [
    "last_name = \"belattar\"\n",
    "full_name = f\"{first_name}{last_name}\"\n",
    "print(full_name)"
   ]
  },
  {
   "cell_type": "markdown",
   "id": "541b24b7-bc79-4b3c-a77b-287b58a237be",
   "metadata": {},
   "source": [
    "# NUmber\n"
   ]
  },
  {
   "cell_type": "code",
   "execution_count": 1,
   "id": "4a96d033-2770-4a22-854a-3a2dd3251830",
   "metadata": {},
   "outputs": [
    {
     "data": {
      "text/plain": [
       "int"
      ]
     },
     "execution_count": 1,
     "metadata": {},
     "output_type": "execute_result"
    }
   ],
   "source": [
    "x = 2\n",
    "type(x)"
   ]
  },
  {
   "cell_type": "code",
   "execution_count": 2,
   "id": "f67a433f-4bf5-4450-be0d-631b4322ccf5",
   "metadata": {},
   "outputs": [
    {
     "data": {
      "text/plain": [
       "float"
      ]
     },
     "execution_count": 2,
     "metadata": {},
     "output_type": "execute_result"
    }
   ],
   "source": [
    "y =2.3\n",
    "type(y)"
   ]
  },
  {
   "cell_type": "code",
   "execution_count": 3,
   "id": "9b1b00da-108a-408f-8f8a-adb3b1b9dcfa",
   "metadata": {},
   "outputs": [],
   "source": [
    "# type conversion"
   ]
  },
  {
   "cell_type": "code",
   "execution_count": 4,
   "id": "54440801-980e-48b8-9d2c-b92e21601359",
   "metadata": {},
   "outputs": [],
   "source": [
    "x = float(x)"
   ]
  },
  {
   "cell_type": "code",
   "execution_count": 5,
   "id": "5ee9b760-082b-4fcc-97f1-9a3023e2da07",
   "metadata": {},
   "outputs": [
    {
     "data": {
      "text/plain": [
       "float"
      ]
     },
     "execution_count": 5,
     "metadata": {},
     "output_type": "execute_result"
    }
   ],
   "source": [
    "type(x)"
   ]
  },
  {
   "cell_type": "markdown",
   "id": "f738c03e-94ec-4684-9bed-0ae1189e7033",
   "metadata": {},
   "source": [
    "# Boolean"
   ]
  },
  {
   "cell_type": "code",
   "execution_count": 6,
   "id": "a41a9749-6536-4b5b-b679-de3c8c8a310d",
   "metadata": {},
   "outputs": [
    {
     "data": {
      "text/plain": [
       "False"
      ]
     },
     "execution_count": 6,
     "metadata": {},
     "output_type": "execute_result"
    }
   ],
   "source": [
    "\n",
    "bool(False)\n",
    "bool(None)\n",
    "bool(0)\n",
    "bool(\"\")\n",
    "bool(())\n",
    "bool([])\n",
    "bool({}) "
   ]
  },
  {
   "cell_type": "code",
   "execution_count": 6,
   "id": "beb40c3f-8c57-41b0-aadd-c6cbe1ef6fab",
   "metadata": {},
   "outputs": [
    {
     "data": {
      "text/plain": [
       "False"
      ]
     },
     "execution_count": 6,
     "metadata": {},
     "output_type": "execute_result"
    }
   ],
   "source": [
    "\n",
    "bool(False)\n",
    "bool(None)\n",
    "bool(0)\n",
    "bool(\"\")\n",
    "bool(())\n",
    "bool([])\n",
    "bool({}) "
   ]
  },
  {
   "cell_type": "code",
   "execution_count": 6,
   "id": "a41709bc-de52-48f3-8acd-794737c33c7b",
   "metadata": {},
   "outputs": [
    {
     "data": {
      "text/plain": [
       "False"
      ]
     },
     "execution_count": 6,
     "metadata": {},
     "output_type": "execute_result"
    }
   ],
   "source": [
    "\n",
    "bool(False)\n",
    "bool(None)\n",
    "bool(0)\n",
    "bool(\"\")\n",
    "bool(())\n",
    "bool([])\n",
    "bool({}) "
   ]
  },
  {
   "cell_type": "code",
   "execution_count": 7,
   "id": "d7220a85-0354-45b2-be8f-ff109a8379b7",
   "metadata": {},
   "outputs": [],
   "source": [
    "num = False"
   ]
  },
  {
   "cell_type": "code",
   "execution_count": 8,
   "id": "2c12eb1e-2b26-4c2e-b8aa-307e5c8745c7",
   "metadata": {},
   "outputs": [],
   "source": [
    "# condition\n"
   ]
  },
  {
   "cell_type": "code",
   "execution_count": 12,
   "id": "5ba53c8b-b3bc-48bd-bcbd-e051403c70ac",
   "metadata": {},
   "outputs": [],
   "source": [
    "#if(X):\n",
    " #   print(True)\n",
    "#else:\n",
    " #   print(False)\n",
    "\n",
    "#if():\n",
    "#    ............\n",
    "#elif\n"
   ]
  },
  {
   "cell_type": "code",
   "execution_count": 13,
   "id": "c327edea-62a2-4ff2-9434-72dbab9eea25",
   "metadata": {},
   "outputs": [],
   "source": [
    "a=10\n",
    "z=20"
   ]
  },
  {
   "cell_type": "code",
   "execution_count": 17,
   "id": "d4a1d6b1-2eff-4b7d-89d8-1e250a8d38ae",
   "metadata": {},
   "outputs": [
    {
     "name": "stdout",
     "output_type": "stream",
     "text": [
      "20\n"
     ]
    }
   ],
   "source": [
    "if(a>=z):\n",
    "  print(a)\n",
    "else:\n",
    "  print(z)"
   ]
  },
  {
   "cell_type": "code",
   "execution_count": null,
   "id": "5eab262c-c97d-4f59-a244-759d2ae8f3ef",
   "metadata": {},
   "outputs": [],
   "source": []
  }
 ],
 "metadata": {
  "kernelspec": {
   "display_name": "Python 3 (ipykernel)",
   "language": "python",
   "name": "python3"
  },
  "language_info": {
   "codemirror_mode": {
    "name": "ipython",
    "version": 3
   },
   "file_extension": ".py",
   "mimetype": "text/x-python",
   "name": "python",
   "nbconvert_exporter": "python",
   "pygments_lexer": "ipython3",
   "version": "3.12.7"
  }
 },
 "nbformat": 4,
 "nbformat_minor": 5
}
